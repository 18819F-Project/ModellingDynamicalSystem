{
 "cells": [
  {
   "cell_type": "code",
   "execution_count": 129,
   "id": "4b641b47-223d-4c7b-83da-22fafeb1ce30",
   "metadata": {},
   "outputs": [
    {
     "name": "stderr",
     "output_type": "stream",
     "text": [
      "ibmqfactory.load_account:WARNING:2021-12-02 19:54:06,170: Credentials are already in use. The existing account in the session will be replaced.\n"
     ]
    }
   ],
   "source": [
    "#from IPython.core.debugger import set_trace\n",
    "import numpy as np\n",
    "\n",
    "# Importing standard Qiskit libraries\n",
    "from qiskit import QuantumCircuit, transpile, Aer, IBMQ\n",
    "from qiskit.tools.jupyter import *\n",
    "from qiskit.visualization import *\n",
    "from ibm_quantum_widgets import *\n",
    "from qiskit.providers.aer import QasmSimulator\n",
    "\n",
    "# Loading your IBM Quantum account(s)\n",
    "provider = IBMQ.load_account()"
   ]
  },
  {
   "cell_type": "code",
   "execution_count": 130,
   "id": "06531ccd-1b9f-4f08-8c98-d0cc9315f3f1",
   "metadata": {},
   "outputs": [],
   "source": [
    "#Custom library\n",
    "from __future__ import print_function\n",
    "\n",
    "import os\n",
    "import sys\n",
    "sys.path.append(\"../Qiskit_Dynamic_Modelling\")\n",
    "sys.path.append(\"./modelQ\")\n",
    "sys.path.append(\"./dynamicsQ\")\n",
    "\n",
    "from visualize import *\n",
    "from ode_solver import *\n",
    "#from network import *\n",
    "from dataloader import *\n",
    "from lagrangian import *\n",
    "\n",
    "import matplotlib.pyplot as plt\n",
    "%matplotlib inline\n",
    "\n",
    "import torch\n",
    "import torch.utils.data\n",
    "from torch.autograd import Function\n",
    "from torchvision import datasets, transforms\n",
    "import torch.optim as optim\n",
    "import torch.nn as nn\n",
    "import torch.nn.functional as F\n",
    "#from torchsummary import summary\n",
    "\n",
    "from itertools import combinations\n",
    "import numpy as np\n",
    "import matplotlib.pyplot as plt\n",
    "\n",
    "import qiskit\n",
    "from qiskit.circuit.random import random_circuit\n",
    "from qiskit import transpile, assemble"
   ]
  },
  {
   "cell_type": "code",
   "execution_count": 142,
   "id": "3e5037ab-2b3d-45c8-94c5-cc6423ba1522",
   "metadata": {},
   "outputs": [
    {
     "name": "stdout",
     "output_type": "stream",
     "text": [
      "--- Loading training and test data... ---\n",
      "--- Loading training and test data completed ---\n"
     ]
    }
   ],
   "source": [
    "print(\"--- Loading training and test data... ---\")\n",
    "train_data = np.load('train_dataset.npz')\n",
    "train_inputs = train_data[\"input\"]\n",
    "train_labels = train_data[\"labels\"]\n",
    "\n",
    "#train_dataset = DynamicsDataset(train_inputs, train_labels)\n",
    "X_train = train_inputs[:1000]\n",
    "y_train = train_labels[:1000]\n",
    "\n",
    "#train_dataset = DynamicsDataset(train_inputs, train_labels)\n",
    "train_dataset = DynamicsDataset(X_train, y_train)\n",
    "\n",
    "train_dataloader = torch.utils.data.DataLoader(train_dataset,\n",
    "                                                 batch_size=1,\n",
    "                                                 shuffle=True,\n",
    "                                                 collate_fn=DynamicsDataset.collate_fn,\n",
    "                                                 pin_memory=True,\n",
    "                                                 num_workers=1)\n",
    "test_data = np.load('val_dataset.npz')\n",
    "test_inputs = train_data[\"input\"]\n",
    "test_labels = train_data[\"labels\"]\n",
    "test_dataset = DynamicsDataset(test_inputs, test_labels)\n",
    "\n",
    "test_dataloader = torch.utils.data.DataLoader(test_dataset,\n",
    "                                                 batch_size=1,\n",
    "                                                 shuffle=False,\n",
    "                                                 collate_fn=DynamicsDataset.collate_fn,\n",
    "                                                 pin_memory=True,\n",
    "                                                 num_workers=1)\n",
    "print(\"--- Loading training and test data completed ---\")"
   ]
  },
  {
   "cell_type": "code",
   "execution_count": 143,
   "id": "3243769e-9364-42ff-826e-e93dd4c23994",
   "metadata": {},
   "outputs": [
    {
     "name": "stdout",
     "output_type": "stream",
     "text": [
      "X_train: torch.Size([1, 4]) type: torch.DoubleTensor\n",
      "y_train: torch.Size([1, 4]) type: torch.DoubleTensor\n",
      "X_train: tensor([[-1.5729, -0.2772,  0.0290, -0.0807]], dtype=torch.float64)\n",
      "y_train: tensor([[ 0.0290, -0.0807,  9.8105,  0.0192]], dtype=torch.float64)\n",
      "X_test: torch.Size([1, 4]) type: torch.DoubleTensor\n",
      "y_test: torch.Size([1, 4]) type: torch.DoubleTensor\n",
      "X_test: tensor([[ 1.9537,  0.2797, -0.0780, -0.2268]], dtype=torch.float64)\n",
      "y_test: tensor([[-0.0780, -0.2268, -9.3138, -3.6618]], dtype=torch.float64)\n"
     ]
    }
   ],
   "source": [
    "for (X_train, y_train) in train_dataloader:\n",
    "    print('X_train:', X_train.size(), 'type:', X_train.type())\n",
    "    print('y_train:', y_train.size(), 'type:', y_train.type())\n",
    "    print('X_train:', X_train)\n",
    "    print('y_train:', y_train)\n",
    "    break\n",
    "\n",
    "for (X_test, y_test) in test_dataloader:\n",
    "    print('X_test:', X_test.size(), 'type:', X_test.type())\n",
    "    print('y_test:', y_test.size(), 'type:', y_test.type())\n",
    "    print('X_test:', X_test)\n",
    "    print('y_test:', y_test)\n",
    "    break"
   ]
  },
  {
   "cell_type": "code",
   "execution_count": 144,
   "id": "ee5f9916-4dc6-4a63-8329-c36811e77460",
   "metadata": {},
   "outputs": [],
   "source": [
    "class QCircuit:\n",
    "    \"\"\" \n",
    "    This class defines filter circuit of Quanvolution layer\n",
    "    \"\"\"\n",
    "    \n",
    "    def __init__(self, kernel_size, backend, shots, threshold):\n",
    "        # --- Circuit definition start ---\n",
    "        self.n_qubits = kernel_size ** 2\n",
    "        self._circuit = qiskit.QuantumCircuit(self.n_qubits,2)\n",
    "        \n",
    "        all_qubits = [i for i in range(self.n_qubits)]        \n",
    "        self._circuit.h(all_qubits)\n",
    "        \n",
    "        self.theta = [qiskit.circuit.Parameter('theta{}'.format(i)) for i in range(self.n_qubits)]\n",
    "\n",
    "        for i in range(self.n_qubits):\n",
    "            self._circuit.rx(self.theta[i], i)\n",
    "        \n",
    "        #self._circuit.ccx(0,1,2,3)\n",
    "        self._circuit.cx(0,2)\n",
    "        self._circuit.cx(1,3)\n",
    "        \n",
    "        self._circuit.barrier()\n",
    "        '''\n",
    "        self._circuit.measure(0,0)\n",
    "        self._circuit.measure(1,1)\n",
    "        self._circuit.measure(2,2)\n",
    "        self._circuit.measure(3,3)\n",
    "        '''\n",
    "        #self._circuit += random_circuit(self.n_qubits, 2)\n",
    "        #self._circuit.measure_all()\n",
    "        '''\n",
    "        self._circuit.measure(0,2)\n",
    "        self._circuit.measure(1,1)\n",
    "        '''\n",
    "        self._circuit.measure(2,0)\n",
    "        self._circuit.measure(3,1)\n",
    "        \n",
    "        # ---- Circuit definition end ----\n",
    "\n",
    "        self.backend   = backend\n",
    "        self.shots     = shots\n",
    "        self.threshold = threshold\n",
    "\n",
    "    def run(self, data):\n",
    "        # data shape: tensor (1, 5, 5)\n",
    "        # val > self.threshold  : |1> - rx(pi)\n",
    "        # val <= self.threshold : |0> - rx(0)\n",
    "\n",
    "        # reshape input data\n",
    "        # [1, kernel_size, kernel_size] -> [1, self.n_qubits]\n",
    "       # print('1',data)\n",
    "        #data = torch.reshape(data, (1, self.n_qubits))\n",
    "        #print(data)\n",
    "        \n",
    "        # encoding data to parameters\n",
    "        thetas = [data]\n",
    "        #for dat in data:\n",
    "           # print(dat)\n",
    "           # theta = []\n",
    "           # for val in dat:\n",
    "             #   if val > self.threshold:\n",
    "            #        theta.append(np.pi)\n",
    "            #    else:\n",
    "             #       theta.append(0)\n",
    "            #thetas.append(theta)\n",
    "        \n",
    "        #print('2',thetas)\n",
    "        ListTarget = []\n",
    "        #print(target)\n",
    "        for valT in data.detach().numpy():\n",
    "            #print(val)            \n",
    "            for j in range(len(valT)):\n",
    "                #print(qcr[0])\n",
    "                ListTarget.append(valT[j])\n",
    "        #print('ab',ListTarget)\n",
    "        param_dict = dict()\n",
    "        i= 0\n",
    "        for theta in ListTarget:\n",
    "            #print(theta)\n",
    "            #for i in range(self.n_qubits):\n",
    "            param_dict[self.theta[i]] = theta#[i]\n",
    "            i += 1\n",
    "        param_binds = [param_dict]\n",
    "        #print('3',param_binds)\n",
    "        #set_trace()\n",
    "        # execute random quantum circuit\n",
    "        List = [thetas]\n",
    "        t_qc = transpile(self._circuit,\n",
    "                         self.backend)\n",
    "        qobj = assemble(t_qc,\n",
    "                        shots=self.shots,\n",
    "                        parameter_binds = param_binds)#[{self.theta: theta} for theta in List])\n",
    "        #set_trace()\n",
    "        job = self.backend.run(qobj)\n",
    "        result = job.result().get_counts()\n",
    "        #print('4',result)\n",
    "        return result"
   ]
  },
  {
   "cell_type": "code",
   "execution_count": 145,
   "id": "f4d7ec78-fc04-4bd8-b64a-43842314e26b",
   "metadata": {},
   "outputs": [
    {
     "name": "stdout",
     "output_type": "stream",
     "text": [
      "{'11': 18, '01': 30, '10': 26, '00': 26}\n"
     ]
    },
    {
     "data": {
      "image/png": "[encoded data removed]",
      "text/plain": [
       "<Figure size 507.997x325.08 with 1 Axes>"
      ]
     },
     "execution_count": 145,
     "metadata": {},
     "output_type": "execute_result"
    }
   ],
   "source": [
    "backend = qiskit.Aer.get_backend('qasm_simulator')\n",
    "filter_size = 2\n",
    "circ = QCircuit(filter_size, backend, 100, 127)\n",
    "#data = torch.tensor([[0, 200], [100, 255]])\n",
    "data = torch.tensor([[-0.2397, -2.9656, -0.1623, -0.0680]])#[5,6,7,7]\n",
    "#\n",
    "#print(data)\n",
    "#print(data.size())\n",
    "print(circ.run(data))\n",
    "\n",
    "circ._circuit.draw(output='mpl')"
   ]
  },
  {
   "cell_type": "code",
   "execution_count": 146,
   "id": "5d0b54a1-1bfc-4c85-9d49-d1554ae15283",
   "metadata": {},
   "outputs": [],
   "source": [
    "class HybridFunction(Function):\n",
    "    \"\"\" Hybrid quantum - classical function definition \"\"\"\n",
    "    \n",
    "    @staticmethod\n",
    "    def forward(ctx, input, quantum_circuit, shift):\n",
    "        \"\"\" Forward pass computation \"\"\"\n",
    "        #print('hFor:', input)\n",
    "        #print('hFor1:', input[0])\n",
    "        #print('hFor2:', input[0].tolist())\n",
    "        ctx.shift = shift\n",
    "        ctx.quantum_circuit = quantum_circuit\n",
    "        #print('6',input)\n",
    "        expectation_z = ctx.quantum_circuit.run(input[0].tolist())\n",
    "        result = torch.tensor([expectation_z])\n",
    "        ctx.save_for_backward(input, result)\n",
    "\n",
    "        return result\n",
    "        \n",
    "    @staticmethod\n",
    "    def backward(ctx, grad_output):\n",
    "        \"\"\" Backward pass computation \"\"\"\n",
    "        input, expectation_z = ctx.saved_tensors\n",
    "        input_list = np.array(input.tolist())\n",
    "        \n",
    "        shift_right = input_list + np.ones(input_list.shape) * ctx.shift\n",
    "        shift_left = input_list - np.ones(input_list.shape) * ctx.shift\n",
    "        \n",
    "        gradients = []\n",
    "        for i in range(len(input_list)):\n",
    "            expectation_right = ctx.quantum_circuit.run(shift_right[i])\n",
    "            expectation_left  = ctx.quantum_circuit.run(shift_left[i])\n",
    "            \n",
    "            gradient = torch.tensor([expectation_right]) - torch.tensor([expectation_left])\n",
    "            gradients.append(gradient)\n",
    "        gradients = np.array([gradients]).T\n",
    "        return torch.tensor([gradients]).float() * grad_output.float(), None, None\n",
    "\n",
    "class Hybrid(nn.Module):\n",
    "    \"\"\" Hybrid quantum - classical layer definition \"\"\"\n",
    "    \n",
    "    def __init__(self, backend, shots, shift):\n",
    "        super(Hybrid, self).__init__()\n",
    "        self.quantum_circuit = QuantumCircuit(1, backend, shots)\n",
    "        self.shift = shift\n",
    "        \n",
    "    def forward(self, input):\n",
    "        #print('5',input)\n",
    "        return HybridFunction.apply(input, self.quantum_circuit, self.shift)"
   ]
  },
  {
   "cell_type": "code",
   "execution_count": 147,
   "id": "948bdcdc-1deb-4751-b8f2-f56e15d6c54d",
   "metadata": {},
   "outputs": [],
   "source": [
    "class LagrangianNeuralNetwork(torch.nn.Module):\n",
    "    def __init__(self, D_in, hidden_list, D_out):\n",
    "        \"\"\"\n",
    "        Neural Network used to approximate a paramaterized system lagrangian\n",
    "        \"\"\"\n",
    "        super(LagrangianNeuralNetwork, self).__init__()\n",
    "        self.model_layers = torch.nn.ModuleList()\n",
    "\n",
    "        # input layer\n",
    "        self.model_layers.append(torch.nn.Linear(D_in, hidden_list[0]))\n",
    "        # self.model_layers.append(torch.nn.BatchNorm1d(hidden_list[0]))\n",
    "        self.model_layers.append(torch.nn.Softplus())\n",
    "        #self.model_layers.append(Hybrid(qiskit.Aer.get_backend('aer_simulator'), 100, np.pi / 2))\n",
    "        # add all hiden layers\n",
    "        for i in range(1, len(hidden_list)):\n",
    "            self.model_layers.append(torch.nn.Linear(hidden_list[i-1], hidden_list[i]))\n",
    "            # self.model_layers.append(torch.nn.BatchNorm1d(hidden_list[i]))\n",
    "            self.model_layers.append(torch.nn.Softplus())\n",
    "        #self.quanv = Quanv(1, 6, kernel_size=5)\n",
    "        #self.hybrid = Hybrid(qiskit.Aer.get_backend('qasm_simulator'), 100, np.pi / 2)\n",
    "        #self.model_layers.append(Hybrid(qiskit.Aer.get_backend('aer_simulator'), 100, np.pi / 2))\n",
    "        # output layer\n",
    "        self.model_layers.append(torch.nn.Linear(hidden_list[-1], D_out))\n",
    "        self.model_layers.append(torch.nn.Softplus())\n",
    "\n",
    "    def forward(self, x):\n",
    "        \"\"\"\n",
    "        applies all of the model layers, and returns the single output value,\n",
    "        which in this case is the lagrangian of the system, representing the\n",
    "        total energy\n",
    "        \"\"\"\n",
    "        for layer in self.model_layers:\n",
    "            #print(len(self.model_layers))\n",
    "            #if(count >= (len(self.model_layers) - 3)):\n",
    "                #print(count)\n",
    "                #print(x)\n",
    "            #    x = self.hybrid(x)\n",
    "                #print(x)\n",
    "            x = layer(x)\n",
    "        #x = self.hybrid(x)\n",
    "        #x = layer(x)\n",
    "        #x = self.hybrid(x)\n",
    "        #print(\"2 \", x)\n",
    "        #for layer in self.model_layers:\n",
    "         #   print('7',x)\n",
    "         #   x = self.hybrid(x)\n",
    "         #   x = layer(x)\n",
    "            #x = self.hybrid(x)\n",
    "        #print('pH', x)                \n",
    "        \n",
    "        return x"
   ]
  },
  {
   "cell_type": "code",
   "execution_count": 148,
   "id": "f45d0c2a-d0fd-49b9-a691-135b285cd5da",
   "metadata": {},
   "outputs": [
    {
     "name": "stdout",
     "output_type": "stream",
     "text": [
      "--- Checking for CUDA Device... ---\n"
     ]
    }
   ],
   "source": [
    "# determine device\n",
    "print(\"--- Checking for CUDA Device... ---\")\n",
    "use_cuda = torch.cuda.is_available()\n",
    "device = torch.device(\"cuda:0\" if use_cuda else \"cpu\")"
   ]
  },
  {
   "cell_type": "code",
   "execution_count": null,
   "id": "e0e2effd-2ba3-499f-8864-99e426633872",
   "metadata": {},
   "outputs": [],
   "source": [
    "# organize data\n",
    "#print(train_inputs.shape[1])\n",
    "input_size = 4#train_inputs.shape[1]\n",
    "output_size = 1  # for all lagrangian systems, output should be just a scalar energy value\n",
    "\n",
    "# build model\n",
    "print(\"--- Constructing Model... ---\")\n",
    "D_in = input_size  # state size\n",
    "# hidden_list = [D_in, 256, 256, 256, 256, 256]\n",
    "hidden_list = [D_in, 32, 64, 128, 256, 512, 256, 128, 64, 32]\n",
    "D_out = output_size\n",
    "lnn_model = LagrangianNeuralNetwork(D_in, hidden_list, D_out)\n",
    "#summary(lnn_model, (1, 28, 28), device='cpu')\n",
    "# set up training parameters\n",
    "learning_rate = 1e-4\n",
    "weight_decay = 1e-5\n",
    "momentum = 0.9\n",
    "num_epochs = 20\n",
    "optimizer = torch.optim.Adam(lnn_model.parameters(),\n",
    "                             lr=learning_rate,\n",
    "                             weight_decay=weight_decay)\n",
    "\n",
    "if os.path.isfile(\"model_weights.pth\"):\n",
    "    print(\"Re-loading existing weights!\")\n",
    "    checkpoint = torch.load(\"model_weights.pth\")\n",
    "    lnn_model.load_state_dict(checkpoint['model_state_dict'])\n",
    "    optimizer.load_state_dict(checkpoint['optimizer_state_dict'])\n",
    "\n",
    "# ensure model is in train mode so gradients are properly calculated\n",
    "lnn_model.train()\n",
    "# load device to either GPU or CPU depending on hardware\n",
    "lnn_model.to(device)\n",
    "\n",
    "# set up loss function\n",
    "loss_fcn = torch.nn.MSELoss()\n",
    "\n",
    "# set up GradScaler to improve run speed\n",
    "scaler = torch.cuda.amp.GradScaler()\n",
    "\n",
    "print(\"--- Beginning Training! ---\")\n",
    "loss_list = []\n",
    "lnn_model.train()\n",
    "for epoch in range(num_epochs):\n",
    "    total_loss = []\n",
    "    for batch_idx, (data, target) in enumerate(train_dataloader):\n",
    "        data, target = data.to(device), target.to(device)\n",
    "        #print('8',data)\n",
    "        optimizer.zero_grad()\n",
    "        for p in lnn_model.parameters(): p.grad = None\n",
    "        #print(data)\n",
    "        backend = qiskit.Aer.get_backend('qasm_simulator')\n",
    "        filter_size = 2\n",
    "        circ = QCircuit(filter_size, backend, 100, 127)\n",
    "        #data = torch.tensor([[0, 200], [100, 255]])\n",
    "        #print(data)# = data#[1,2,3,4]\n",
    "        Quantum = circ.run(data)\n",
    "        #print('q', Quantum)\n",
    "        qdata = []\n",
    "        for key, val in Quantum.items():\n",
    "            qdata.append(val)\n",
    "        #print(qdata)\n",
    "        #inData = torch.tensor(qdata)\n",
    "        dataIn = torch.squeeze(torch.tensor(qdata))\n",
    "        targetQData = circ.run(target)\n",
    "        \n",
    "        targetdata = []\n",
    "        for keyt, valt in targetQData.items():\n",
    "            targetdata.append(valt)\n",
    "        #print(qdata)\n",
    "        #inData = torch.tensor(qdata)\n",
    "        targetIndata = torch.tensor(targetdata)\n",
    "        \n",
    "        # Forward pass\n",
    "        #output = model(data)\n",
    "        # Calculating loss\n",
    "        #loss = loss_func(output, target)\n",
    "        # output from model is the energy calculated from the parameterized lagrangian\n",
    "        #print('1',data)\n",
    "        #data = torch.squeeze(data)\n",
    "        with torch.cuda.amp.autocast():\n",
    "            target_pred = solve_euler_lagrange(lnn_model.forward, dataIn.float())\n",
    "            #print(target_pred)\n",
    "            #print(target.float())\n",
    "            loss = loss_fcn(target_pred.unsqueeze(0), targetIndata.float())\n",
    "        # Backward pass\n",
    "        scaler.scale(loss).backward()\n",
    "        # Optimize the weights\n",
    "        scaler.step(optimizer)\n",
    "        #print(\"Iter Num: \", batch_idx)\n",
    "        \n",
    "        #if (batch_idx == 10):\n",
    "            #print(\"Iter Num: \", batch_idx)\n",
    "         #   break\n",
    "        #print(\"Iter Num: \", len(train_dataloader))\n",
    "        #print(\"Iter Num: \", batch_idx)\n",
    "        total_loss.append(loss.item())\n",
    "    loss_list.append(sum(total_loss)/len(total_loss))\n",
    "    print('Training [{:.0f}%]\\tLoss: {:.4f}'.format(\n",
    "        100. * (epoch + 1) / num_epochs, loss_list[-1]))\n",
    "\n",
    "print('end')"
   ]
  },
  {
   "cell_type": "code",
   "execution_count": null,
   "id": "9e195214-e278-4278-8a2f-971133ccf007",
   "metadata": {},
   "outputs": [],
   "source": [
    "plt.plot(loss_list)\n",
    "plt.title('Hybrid LQNN Training')\n",
    "plt.xlabel('Training Iterations')\n",
    "#plt.ylabel('Neg Log Likelihood Loss')\n",
    "plt.ylabel('Loss')"
   ]
  }
 ],
 "metadata": {
  "kernelspec": {
   "display_name": "Qiskit v0.32.1 (ipykernel)",
   "language": "python",
   "name": "python3"
  },
  "language_info": {
   "codemirror_mode": {
    "name": "ipython",
    "version": 3
   },
   "file_extension": ".py",
   "mimetype": "text/x-python",
   "name": "python",
   "nbconvert_exporter": "python",
   "pygments_lexer": "ipython3",
   "version": "3.8.10"
  },
  "widgets": {
   "application/vnd.jupyter.widget-state+json": {
    "state": {
     "062e00eec8764c1fbbbbde665a57d670": {
      "model_module": "@jupyter-widgets/controls",
      "model_module_version": "1.5.0",
      "model_name": "DescriptionStyleModel",
      "state": {
       "description_width": ""
      }
     },
     "127206a9b90f4f4786f535a67f037352": {
      "model_module": "@jupyter-widgets/base",
      "model_module_version": "1.2.0",
      "model_name": "LayoutModel",
      "state": {
       "width": "190px"
      }
     },
     "24decc986ac04dad8e270788748a964e": {
      "model_module": "@jupyter-widgets/controls",
      "model_module_version": "1.5.0",
      "model_name": "DescriptionStyleModel",
      "state": {
       "description_width": ""
      }
     },
     "2f3d50f0cf9f4b80825b823506ddaacb": {
      "model_module": "@jupyter-widgets/base",
      "model_module_version": "1.2.0",
      "model_name": "LayoutModel",
      "state": {
       "width": "145px"
      }
     },
     "31469cc25192476ab0d48b0981372bf6": {
      "model_module": "@jupyter-widgets/controls",
      "model_module_version": "1.5.0",
      "model_name": "DescriptionStyleModel",
      "state": {
       "description_width": ""
      }
     },
     "3e9acd17d9a545c6b54cbca15fad2729": {
      "model_module": "@jupyter-widgets/base",
      "model_module_version": "1.2.0",
      "model_name": "LayoutModel",
      "state": {
       "grid_area": "right",
       "padding": "0px 0px 0px 0px",
       "width": "70px"
      }
     },
     "60590d982dff4212ae74429b644d56ad": {
      "model_module": "@jupyter-widgets/controls",
      "model_module_version": "1.5.0",
      "model_name": "DescriptionStyleModel",
      "state": {
       "description_width": ""
      }
     },
     "6a718c4ac2a84d8985031035c474c668": {
      "model_module": "@jupyter-widgets/controls",
      "model_module_version": "1.5.0",
      "model_name": "HTMLModel",
      "state": {
       "layout": "IPY_MODEL_2f3d50f0cf9f4b80825b823506ddaacb",
       "style": "IPY_MODEL_31469cc25192476ab0d48b0981372bf6",
       "value": "<h5>Backend</h5>"
      }
     },
     "7932ce51594a4a229d3b9012d1a96a9b": {
      "model_module": "@jupyter-widgets/base",
      "model_module_version": "1.2.0",
      "model_name": "LayoutModel",
      "state": {
       "width": "95px"
      }
     },
     "867f88060257461bb5e92420efb5b8de": {
      "model_module": "@jupyter-widgets/controls",
      "model_module_version": "1.5.0",
      "model_name": "DescriptionStyleModel",
      "state": {
       "description_width": ""
      }
     },
     "97c5ec46d1034182871882c5aa1e070e": {
      "model_module": "@jupyter-widgets/controls",
      "model_module_version": "1.5.0",
      "model_name": "ButtonStyleModel",
      "state": {}
     },
     "98b76a0205b4428e9f7cc71a7f5060b4": {
      "model_module": "@jupyter-widgets/controls",
      "model_module_version": "1.5.0",
      "model_name": "HTMLModel",
      "state": {
       "layout": "IPY_MODEL_c58e44e121424948a6e5a5e9bf0d1cd8",
       "style": "IPY_MODEL_d5b1311ea6dd4d65ab51629a6331d5ba",
       "value": "<h5>Message</h5>"
      }
     },
     "b3009d1469bf4606bb79de281ccf17cc": {
      "model_module": "@jupyter-widgets/base",
      "model_module_version": "1.2.0",
      "model_name": "LayoutModel",
      "state": {
       "width": "70px"
      }
     },
     "b4a2abbe60254865b16a8e8dd6c14d95": {
      "model_module": "@jupyter-widgets/controls",
      "model_module_version": "1.5.0",
      "model_name": "HBoxModel",
      "state": {
       "children": [
        "IPY_MODEL_dace7e0a52d141338021e6715517c051",
        "IPY_MODEL_6a718c4ac2a84d8985031035c474c668",
        "IPY_MODEL_f24540ca3b8640e1a5b32530fb951d77",
        "IPY_MODEL_d5781791ecd843249ff02216ee845a0e",
        "IPY_MODEL_98b76a0205b4428e9f7cc71a7f5060b4"
       ],
       "layout": "IPY_MODEL_cd862853501b4ce7a51dee715a49d308"
      }
     },
     "c58e44e121424948a6e5a5e9bf0d1cd8": {
      "model_module": "@jupyter-widgets/base",
      "model_module_version": "1.2.0",
      "model_name": "LayoutModel",
      "state": {}
     },
     "c8295b61682449aa91ab5ce101ae3cf7": {
      "model_module": "@jupyter-widgets/base",
      "model_module_version": "1.2.0",
      "model_name": "LayoutModel",
      "state": {
       "margin": "0px 0px 10px 0px"
      }
     },
     "cd862853501b4ce7a51dee715a49d308": {
      "model_module": "@jupyter-widgets/base",
      "model_module_version": "1.2.0",
      "model_name": "LayoutModel",
      "state": {
       "margin": "0px 0px 0px 37px",
       "width": "600px"
      }
     },
     "d1d74379b3ba42ac80f17a7f968da913": {
      "model_module": "@jupyter-widgets/controls",
      "model_module_version": "1.5.0",
      "model_name": "GridBoxModel",
      "state": {
       "children": [
        "IPY_MODEL_e65a3d41e8c34b7a886cdeaae9ab212a"
       ],
       "layout": "IPY_MODEL_d88fb68f7b8c4c7698efd7a04db92088"
      }
     },
     "d5781791ecd843249ff02216ee845a0e": {
      "model_module": "@jupyter-widgets/controls",
      "model_module_version": "1.5.0",
      "model_name": "HTMLModel",
      "state": {
       "layout": "IPY_MODEL_b3009d1469bf4606bb79de281ccf17cc",
       "style": "IPY_MODEL_60590d982dff4212ae74429b644d56ad",
       "value": "<h5>Queue</h5>"
      }
     },
     "d5b1311ea6dd4d65ab51629a6331d5ba": {
      "model_module": "@jupyter-widgets/controls",
      "model_module_version": "1.5.0",
      "model_name": "DescriptionStyleModel",
      "state": {
       "description_width": ""
      }
     },
     "d88fb68f7b8c4c7698efd7a04db92088": {
      "model_module": "@jupyter-widgets/base",
      "model_module_version": "1.2.0",
      "model_name": "LayoutModel",
      "state": {
       "grid_template_areas": "\n                                       \". . . . right \"\n                                        ",
       "grid_template_columns": "20% 20% 20% 20% 20%",
       "width": "100%"
      }
     },
     "dace7e0a52d141338021e6715517c051": {
      "model_module": "@jupyter-widgets/controls",
      "model_module_version": "1.5.0",
      "model_name": "HTMLModel",
      "state": {
       "layout": "IPY_MODEL_127206a9b90f4f4786f535a67f037352",
       "style": "IPY_MODEL_062e00eec8764c1fbbbbde665a57d670",
       "value": "<h5>Job ID</h5>"
      }
     },
     "e65a3d41e8c34b7a886cdeaae9ab212a": {
      "model_module": "@jupyter-widgets/controls",
      "model_module_version": "1.5.0",
      "model_name": "ButtonModel",
      "state": {
       "button_style": "primary",
       "description": "Clear",
       "layout": "IPY_MODEL_3e9acd17d9a545c6b54cbca15fad2729",
       "style": "IPY_MODEL_97c5ec46d1034182871882c5aa1e070e"
      }
     },
     "f24540ca3b8640e1a5b32530fb951d77": {
      "model_module": "@jupyter-widgets/controls",
      "model_module_version": "1.5.0",
      "model_name": "HTMLModel",
      "state": {
       "layout": "IPY_MODEL_7932ce51594a4a229d3b9012d1a96a9b",
       "style": "IPY_MODEL_867f88060257461bb5e92420efb5b8de",
       "value": "<h5>Status</h5>"
      }
     },
     "fd5f8cf1fd5647a4a936752edb16ac6d": {
      "model_module": "@jupyter-widgets/controls",
      "model_module_version": "1.5.0",
      "model_name": "HTMLModel",
      "state": {
       "layout": "IPY_MODEL_c8295b61682449aa91ab5ce101ae3cf7",
       "style": "IPY_MODEL_24decc986ac04dad8e270788748a964e",
       "value": "<p style='font-family: IBM Plex Sans, Arial, Helvetica, sans-serif; font-size: 20px; font-weight: medium;'>Circuit Properties</p>"
      }
     }
    },
    "version_major": 2,
    "version_minor": 0
   }
  }
 },
 "nbformat": 4,
 "nbformat_minor": 5
}
