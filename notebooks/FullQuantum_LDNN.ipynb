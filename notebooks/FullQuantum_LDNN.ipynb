{
  "cells": [
    {
      "cell_type": "code",
      "execution_count": null,
      "metadata": {
        "colab": {
          "base_uri": "https://localhost:8080/"
        },
        "id": "i2wCnZQ1-FS2",
        "outputId": "c01b68ed-c028-4638-865d-5e601b0478fc"
      },
      "outputs": [
        {
          "name": "stdout",
          "output_type": "stream",
          "text": [
            "Collecting qiskit\n",
            "  Downloading qiskit-0.33.0.tar.gz (13 kB)\n",
            "Collecting qiskit-terra==0.19.0\n",
            "  Downloading qiskit_terra-0.19.0-cp37-cp37m-manylinux2010_x86_64.whl (6.4 MB)\n",
            "\u001b[K     |████████████████████████████████| 6.4 MB 4.0 MB/s \n",
            "\u001b[?25hCollecting qiskit-aer==0.9.1\n",
            "  Downloading qiskit_aer-0.9.1-cp37-cp37m-manylinux_2_12_x86_64.manylinux2010_x86_64.whl (17.9 MB)\n",
            "\u001b[K     |████████████████████████████████| 17.9 MB 559 kB/s \n",
            "\u001b[?25hCollecting qiskit-ibmq-provider==0.18.1\n",
            "  Downloading qiskit_ibmq_provider-0.18.1-py3-none-any.whl (237 kB)\n",
            "\u001b[K     |████████████████████████████████| 237 kB 71.4 MB/s \n",
            "\u001b[?25hCollecting qiskit-ignis==0.7.0\n",
            "  Downloading qiskit_ignis-0.7.0-py3-none-any.whl (200 kB)\n",
            "\u001b[K     |████████████████████████████████| 200 kB 59.7 MB/s \n",
            "\u001b[?25hRequirement already satisfied: scipy>=1.0 in /usr/local/lib/python3.7/dist-packages (from qiskit-aer==0.9.1->qiskit) (1.4.1)\n",
            "Requirement already satisfied: numpy>=1.16.3 in /usr/local/lib/python3.7/dist-packages (from qiskit-aer==0.9.1->qiskit) (1.19.5)\n",
            "Requirement already satisfied: python-dateutil>=2.8.0 in /usr/local/lib/python3.7/dist-packages (from qiskit-ibmq-provider==0.18.1->qiskit) (2.8.2)\n",
            "Requirement already satisfied: urllib3>=1.21.1 in /usr/local/lib/python3.7/dist-packages (from qiskit-ibmq-provider==0.18.1->qiskit) (1.24.3)\n",
            "Collecting requests-ntlm>=1.1.0\n",
            "  Downloading requests_ntlm-1.1.0-py2.py3-none-any.whl (5.7 kB)\n",
            "Collecting websocket-client>=1.0.1\n",
            "  Downloading websocket_client-1.2.3-py3-none-any.whl (53 kB)\n",
            "\u001b[K     |████████████████████████████████| 53 kB 1.8 MB/s \n",
            "\u001b[?25hRequirement already satisfied: requests>=2.19 in /usr/local/lib/python3.7/dist-packages (from qiskit-ibmq-provider==0.18.1->qiskit) (2.23.0)\n",
            "Collecting retworkx>=0.8.0\n",
            "  Downloading retworkx-0.10.2-cp37-cp37m-manylinux_2_5_x86_64.manylinux1_x86_64.manylinux_2_12_x86_64.manylinux2010_x86_64.whl (1.4 MB)\n",
            "\u001b[K     |████████████████████████████████| 1.4 MB 54.3 MB/s \n",
            "\u001b[?25hRequirement already satisfied: setuptools>=40.1.0 in /usr/local/lib/python3.7/dist-packages (from qiskit-ignis==0.7.0->qiskit) (57.4.0)\n",
            "Collecting tweedledum<2.0,>=1.1\n",
            "  Downloading tweedledum-1.1.1-cp37-cp37m-manylinux_2_12_x86_64.manylinux2010_x86_64.whl (943 kB)\n",
            "\u001b[K     |████████████████████████████████| 943 kB 54.8 MB/s \n",
            "\u001b[?25hCollecting ply>=3.10\n",
            "  Downloading ply-3.11-py2.py3-none-any.whl (49 kB)\n",
            "\u001b[K     |████████████████████████████████| 49 kB 5.6 MB/s \n",
            "\u001b[?25hCollecting scipy>=1.0\n",
            "  Downloading scipy-1.7.3-cp37-cp37m-manylinux_2_12_x86_64.manylinux2010_x86_64.whl (38.1 MB)\n",
            "\u001b[K     |████████████████████████████████| 38.1 MB 1.1 MB/s \n",
            "\u001b[?25hCollecting symengine>=0.8\n",
            "  Downloading symengine-0.8.1-cp37-cp37m-manylinux2010_x86_64.whl (38.2 MB)\n",
            "\u001b[K     |████████████████████████████████| 38.2 MB 1.2 MB/s \n",
            "\u001b[?25hRequirement already satisfied: dill>=0.3 in /usr/local/lib/python3.7/dist-packages (from qiskit-terra==0.19.0->qiskit) (0.3.4)\n",
            "Requirement already satisfied: psutil>=5 in /usr/local/lib/python3.7/dist-packages (from qiskit-terra==0.19.0->qiskit) (5.4.8)\n",
            "Requirement already satisfied: sympy>=1.3 in /usr/local/lib/python3.7/dist-packages (from qiskit-terra==0.19.0->qiskit) (1.7.1)\n",
            "Collecting stevedore>=3.0.0\n",
            "  Downloading stevedore-3.5.0-py3-none-any.whl (49 kB)\n",
            "\u001b[K     |████████████████████████████████| 49 kB 5.6 MB/s \n",
            "\u001b[?25hCollecting python-constraint>=1.4\n",
            "  Downloading python-constraint-1.4.0.tar.bz2 (18 kB)\n",
            "Requirement already satisfied: six>=1.5 in /usr/local/lib/python3.7/dist-packages (from python-dateutil>=2.8.0->qiskit-ibmq-provider==0.18.1->qiskit) (1.15.0)\n",
            "Requirement already satisfied: idna<3,>=2.5 in /usr/local/lib/python3.7/dist-packages (from requests>=2.19->qiskit-ibmq-provider==0.18.1->qiskit) (2.10)\n",
            "Requirement already satisfied: chardet<4,>=3.0.2 in /usr/local/lib/python3.7/dist-packages (from requests>=2.19->qiskit-ibmq-provider==0.18.1->qiskit) (3.0.4)\n",
            "Requirement already satisfied: certifi>=2017.4.17 in /usr/local/lib/python3.7/dist-packages (from requests>=2.19->qiskit-ibmq-provider==0.18.1->qiskit) (2021.10.8)\n",
            "Collecting cryptography>=1.3\n",
            "  Downloading cryptography-36.0.0-cp36-abi3-manylinux_2_24_x86_64.whl (3.6 MB)\n",
            "\u001b[K     |████████████████████████████████| 3.6 MB 60.4 MB/s \n",
            "\u001b[?25hCollecting ntlm-auth>=1.0.2\n",
            "  Downloading ntlm_auth-1.5.0-py2.py3-none-any.whl (29 kB)\n",
            "Requirement already satisfied: cffi>=1.12 in /usr/local/lib/python3.7/dist-packages (from cryptography>=1.3->requests-ntlm>=1.1.0->qiskit-ibmq-provider==0.18.1->qiskit) (1.15.0)\n",
            "Requirement already satisfied: pycparser in /usr/local/lib/python3.7/dist-packages (from cffi>=1.12->cryptography>=1.3->requests-ntlm>=1.1.0->qiskit-ibmq-provider==0.18.1->qiskit) (2.21)\n",
            "Collecting pbr!=2.1.0,>=2.0.0\n",
            "  Downloading pbr-5.8.0-py2.py3-none-any.whl (112 kB)\n",
            "\u001b[K     |████████████████████████████████| 112 kB 71.0 MB/s \n",
            "\u001b[?25hRequirement already satisfied: importlib-metadata>=1.7.0 in /usr/local/lib/python3.7/dist-packages (from stevedore>=3.0.0->qiskit-terra==0.19.0->qiskit) (4.8.2)\n",
            "Requirement already satisfied: zipp>=0.5 in /usr/local/lib/python3.7/dist-packages (from importlib-metadata>=1.7.0->stevedore>=3.0.0->qiskit-terra==0.19.0->qiskit) (3.6.0)\n",
            "Requirement already satisfied: typing-extensions>=3.6.4 in /usr/local/lib/python3.7/dist-packages (from importlib-metadata>=1.7.0->stevedore>=3.0.0->qiskit-terra==0.19.0->qiskit) (3.10.0.2)\n",
            "Requirement already satisfied: mpmath>=0.19 in /usr/local/lib/python3.7/dist-packages (from sympy>=1.3->qiskit-terra==0.19.0->qiskit) (1.2.1)\n",
            "Building wheels for collected packages: qiskit, python-constraint\n",
            "  Building wheel for qiskit (setup.py) ... \u001b[?25l\u001b[?25hdone\n",
            "  Created wheel for qiskit: filename=qiskit-0.33.0-py3-none-any.whl size=11763 sha256=7b20655b4b246c3c40dab4d04123c929fbd370f9961fa4425422e89928476ec9\n",
            "  Stored in directory: /root/.cache/pip/wheels/d4/60/ef/c49ae113df02818c4ade5fb6e2e89bb928625412eda0bb25f5\n",
            "  Building wheel for python-constraint (setup.py) ... \u001b[?25l\u001b[?25hdone\n",
            "  Created wheel for python-constraint: filename=python_constraint-1.4.0-py2.py3-none-any.whl size=24081 sha256=bc599173af47dd861b7e2c523ed208f0c110c69756d0834848052bc428ce1fbc\n",
            "  Stored in directory: /root/.cache/pip/wheels/07/27/db/1222c80eb1e431f3d2199c12569cb1cac60f562a451fe30479\n",
            "Successfully built qiskit python-constraint\n",
            "Installing collected packages: pbr, tweedledum, symengine, stevedore, scipy, retworkx, python-constraint, ply, ntlm-auth, cryptography, websocket-client, requests-ntlm, qiskit-terra, qiskit-ignis, qiskit-ibmq-provider, qiskit-aer, qiskit\n",
            "  Attempting uninstall: scipy\n",
            "    Found existing installation: scipy 1.4.1\n",
            "    Uninstalling scipy-1.4.1:\n",
            "      Successfully uninstalled scipy-1.4.1\n",
            "\u001b[31mERROR: pip's dependency resolver does not currently take into account all the packages that are installed. This behaviour is the source of the following dependency conflicts.\n",
            "albumentations 0.1.12 requires imgaug<0.2.7,>=0.2.5, but you have imgaug 0.2.9 which is incompatible.\u001b[0m\n",
            "Successfully installed cryptography-36.0.0 ntlm-auth-1.5.0 pbr-5.8.0 ply-3.11 python-constraint-1.4.0 qiskit-0.33.0 qiskit-aer-0.9.1 qiskit-ibmq-provider-0.18.1 qiskit-ignis-0.7.0 qiskit-terra-0.19.0 requests-ntlm-1.1.0 retworkx-0.10.2 scipy-1.7.3 stevedore-3.5.0 symengine-0.8.1 tweedledum-1.1.1 websocket-client-1.2.3\n",
            "Collecting qiskit-machine-learning\n",
            "  Downloading qiskit_machine_learning-0.2.1-py3-none-any.whl (96 kB)\n",
            "\u001b[K     |████████████████████████████████| 96 kB 3.1 MB/s \n",
            "\u001b[?25hRequirement already satisfied: setuptools>=40.1.0 in /usr/local/lib/python3.7/dist-packages (from qiskit-machine-learning) (57.4.0)\n",
            "Requirement already satisfied: scipy>=1.4 in /usr/local/lib/python3.7/dist-packages (from qiskit-machine-learning) (1.7.3)\n",
            "Requirement already satisfied: numpy>=1.17 in /usr/local/lib/python3.7/dist-packages (from qiskit-machine-learning) (1.19.5)\n",
            "Requirement already satisfied: fastdtw in /usr/local/lib/python3.7/dist-packages (from qiskit-machine-learning) (0.3.4)\n",
            "Requirement already satisfied: scikit-learn>=0.20.0 in /usr/local/lib/python3.7/dist-packages (from qiskit-machine-learning) (1.0.1)\n",
            "Requirement already satisfied: psutil>=5 in /usr/local/lib/python3.7/dist-packages (from qiskit-machine-learning) (5.4.8)\n",
            "Requirement already satisfied: qiskit-terra>=0.18.0 in /usr/local/lib/python3.7/dist-packages (from qiskit-machine-learning) (0.19.0)\n",
            "Requirement already satisfied: stevedore>=3.0.0 in /usr/local/lib/python3.7/dist-packages (from qiskit-terra>=0.18.0->qiskit-machine-learning) (3.5.0)\n",
            "Requirement already satisfied: retworkx>=0.10.1 in /usr/local/lib/python3.7/dist-packages (from qiskit-terra>=0.18.0->qiskit-machine-learning) (0.10.2)\n",
            "Requirement already satisfied: sympy>=1.3 in /usr/local/lib/python3.7/dist-packages (from qiskit-terra>=0.18.0->qiskit-machine-learning) (1.7.1)\n",
            "Requirement already satisfied: python-dateutil>=2.8.0 in /usr/local/lib/python3.7/dist-packages (from qiskit-terra>=0.18.0->qiskit-machine-learning) (2.8.2)\n",
            "Requirement already satisfied: symengine>=0.8 in /usr/local/lib/python3.7/dist-packages (from qiskit-terra>=0.18.0->qiskit-machine-learning) (0.8.1)\n",
            "Requirement already satisfied: tweedledum<2.0,>=1.1 in /usr/local/lib/python3.7/dist-packages (from qiskit-terra>=0.18.0->qiskit-machine-learning) (1.1.1)\n",
            "Requirement already satisfied: dill>=0.3 in /usr/local/lib/python3.7/dist-packages (from qiskit-terra>=0.18.0->qiskit-machine-learning) (0.3.4)\n",
            "Requirement already satisfied: ply>=3.10 in /usr/local/lib/python3.7/dist-packages (from qiskit-terra>=0.18.0->qiskit-machine-learning) (3.11)\n",
            "Requirement already satisfied: python-constraint>=1.4 in /usr/local/lib/python3.7/dist-packages (from qiskit-terra>=0.18.0->qiskit-machine-learning) (1.4.0)\n",
            "Requirement already satisfied: six>=1.5 in /usr/local/lib/python3.7/dist-packages (from python-dateutil>=2.8.0->qiskit-terra>=0.18.0->qiskit-machine-learning) (1.15.0)\n",
            "Requirement already satisfied: joblib>=0.11 in /usr/local/lib/python3.7/dist-packages (from scikit-learn>=0.20.0->qiskit-machine-learning) (1.1.0)\n",
            "Requirement already satisfied: threadpoolctl>=2.0.0 in /usr/local/lib/python3.7/dist-packages (from scikit-learn>=0.20.0->qiskit-machine-learning) (3.0.0)\n",
            "Requirement already satisfied: importlib-metadata>=1.7.0 in /usr/local/lib/python3.7/dist-packages (from stevedore>=3.0.0->qiskit-terra>=0.18.0->qiskit-machine-learning) (4.8.2)\n",
            "Requirement already satisfied: pbr!=2.1.0,>=2.0.0 in /usr/local/lib/python3.7/dist-packages (from stevedore>=3.0.0->qiskit-terra>=0.18.0->qiskit-machine-learning) (5.8.0)\n",
            "Requirement already satisfied: zipp>=0.5 in /usr/local/lib/python3.7/dist-packages (from importlib-metadata>=1.7.0->stevedore>=3.0.0->qiskit-terra>=0.18.0->qiskit-machine-learning) (3.6.0)\n",
            "Requirement already satisfied: typing-extensions>=3.6.4 in /usr/local/lib/python3.7/dist-packages (from importlib-metadata>=1.7.0->stevedore>=3.0.0->qiskit-terra>=0.18.0->qiskit-machine-learning) (3.10.0.2)\n",
            "Requirement already satisfied: mpmath>=0.19 in /usr/local/lib/python3.7/dist-packages (from sympy>=1.3->qiskit-terra>=0.18.0->qiskit-machine-learning) (1.2.1)\n",
            "Installing collected packages: qiskit-machine-learning\n",
            "Successfully installed qiskit-machine-learning-0.2.1\n"
          ]
        }
      ],
      "source": [
        "!pip install qiskit\n",
        "!pip install qiskit-machine-learning"
      ]
    },
    {
      "cell_type": "code",
      "execution_count": null,
      "metadata": {
        "id": "cb17572d-0a89-435c-876f-8a91aa0f5567"
      },
      "outputs": [],
      "source": [
        "import numpy as np\n",
        "\n",
        "# Importing standard Qiskit libraries\n",
        "import qiskit\n",
        "from qiskit import QuantumCircuit, transpile, Aer, IBMQ\n",
        "from qiskit.tools.jupyter import *\n",
        "from qiskit.visualization import *\n",
        "#from ibm_quantum_widgets import *\n",
        "from qiskit.providers.aer import QasmSimulator\n",
        "\n",
        "# Loading your IBM Quantum account(s)\n",
        "#provider = IBMQ.load_account()"
      ]
    },
    {
      "cell_type": "code",
      "execution_count": null,
      "metadata": {
        "id": "22d92524-3739-4887-ad40-cec3e4a04342"
      },
      "outputs": [],
      "source": [
        "import numpy as np\n",
        "import matplotlib.pyplot as plt\n",
        "\n",
        "from qiskit import Aer, QuantumCircuit\n",
        "from qiskit.opflow import Z, I, StateFn\n",
        "from qiskit.utils import QuantumInstance\n",
        "from qiskit.circuit import Parameter\n",
        "from qiskit.circuit.library import RealAmplitudes, ZZFeatureMap\n",
        "from qiskit.algorithms.optimizers import COBYLA, L_BFGS_B\n",
        "\n",
        "from qiskit_machine_learning.neural_networks import TwoLayerQNN, CircuitQNN\n",
        "from qiskit_machine_learning.algorithms.classifiers import NeuralNetworkClassifier, VQC\n",
        "from qiskit_machine_learning.algorithms.regressors import NeuralNetworkRegressor, VQR\n",
        "\n",
        "from typing import Union\n",
        "\n",
        "from qiskit_machine_learning.exceptions import QiskitMachineLearningError\n",
        "\n",
        "from IPython.display import clear_output\n",
        "quantum_instance = QuantumInstance(Aer.get_backend('aer_simulator'), shots=1024)"
      ]
    },
    {
      "cell_type": "code",
      "execution_count": null,
      "metadata": {
        "id": "77d921e8-a2c9-4806-aee8-09f51c773a35",
        "outputId": "dc1af47c-d841-4e5a-8778-6fbd5a490446"
      },
      "outputs": [
        {
          "data": {
            "text/plain": [
              "\"\\nnum_samples = 20\\neps = 0.2\\nlb, ub = -np.pi, np.pi\\nX_ = np.linspace(lb, ub, num=50).reshape(50, 1)\\nf = lambda x: np.sin(x)\\n\\nX = (ub - lb)*np.random.rand(num_samples, 1) + lb\\ny = f(X[:,0]) + eps*(2*np.random.rand(num_samples)-1)\\n\\nprint(X)\\nprint(y)\\n\\nplt.plot(X_, f(X_), 'r--')\\nplt.plot(X, y, 'bo')\\nplt.show()\\n\""
            ]
          },
          "execution_count": 1,
          "metadata": {},
          "output_type": "execute_result"
        }
      ],
      "source": [
        "'''\n",
        "num_samples = 20\n",
        "eps = 0.2\n",
        "lb, ub = -np.pi, np.pi\n",
        "X_ = np.linspace(lb, ub, num=50).reshape(50, 1)\n",
        "f = lambda x: np.sin(x)\n",
        "\n",
        "X = (ub - lb)*np.random.rand(num_samples, 1) + lb\n",
        "y = f(X[:,0]) + eps*(2*np.random.rand(num_samples)-1)\n",
        "\n",
        "print(X)\n",
        "print(y)\n",
        "\n",
        "plt.plot(X_, f(X_), 'r--')\n",
        "plt.plot(X, y, 'bo')\n",
        "plt.show()\n",
        "'''"
      ]
    },
    {
      "cell_type": "code",
      "execution_count": null,
      "metadata": {
        "colab": {
          "base_uri": "https://localhost:8080/"
        },
        "id": "4deaa0de-c9cb-4d98-9db5-fbb82ae2d951",
        "outputId": "0d783a50-5538-4ae5-d695-8c213c066027"
      },
      "outputs": [
        {
          "name": "stdout",
          "output_type": "stream",
          "text": [
            "   ┌───────┐\n",
            "q: ┤ Ry(x) ├\n",
            "   └───────┘\n",
            "   ┌───────┐\n",
            "q: ┤ Ry(y) ├\n",
            "   └───────┘\n"
          ]
        }
      ],
      "source": [
        "# construct simple feature map\n",
        "param_x = Parameter('x')\n",
        "feature_map = QuantumCircuit(1, name='fm')\n",
        "feature_map.ry(param_x, 0)\n",
        "print(feature_map)\n",
        "\n",
        "# construct simple ansatz\n",
        "param_y = Parameter('y')\n",
        "ansatz = QuantumCircuit(1, name='vf')\n",
        "ansatz.ry(param_y, 0)\n",
        "print(ansatz)\n",
        "\n",
        "# construct QNN\n",
        "regression_opflow_qnn = TwoLayerQNN(1, feature_map, ansatz, quantum_instance=quantum_instance)"
      ]
    },
    {
      "cell_type": "code",
      "execution_count": null,
      "metadata": {
        "id": "0d540c38-e26b-45c2-b323-ac524eb6486a"
      },
      "outputs": [],
      "source": [
        "# callback function that draws a live plot when the .fit() method is called\n",
        "objective_func_vals = []\n",
        "def callback_graph(weights, obj_func_eval):\n",
        "    clear_output(wait=True)\n",
        "    objective_func_vals.append(obj_func_eval)\n",
        "    plt.title(\"Objective function value against iteration\")\n",
        "    plt.xlabel(\"Iteration\")\n",
        "    plt.ylabel(\"Objective function value\")\n",
        "    plt.plot(range(len(objective_func_vals)), objective_func_vals)\n",
        "    plt.show()"
      ]
    },
    {
      "cell_type": "code",
      "execution_count": null,
      "metadata": {
        "id": "24d8440c-f469-4de8-99df-1d6dd22c8185"
      },
      "outputs": [],
      "source": [
        "# construct the regressor from the neural network\n",
        "regressor = NeuralNetworkRegressor(neural_network=regression_opflow_qnn,\n",
        "                                   loss='l2',\n",
        "                                   optimizer=L_BFGS_B(),\n",
        "                                   callback=callback_graph)"
      ]
    },
    {
      "cell_type": "code",
      "execution_count": null,
      "metadata": {
        "id": "9b2b7eab-0f48-4532-96ed-7210dd149e69"
      },
      "outputs": [],
      "source": [
        "#from IPython.core.debugger import set_trace"
      ]
    },
    {
      "cell_type": "code",
      "execution_count": null,
      "metadata": {
        "colab": {
          "base_uri": "https://localhost:8080/"
        },
        "id": "237762ea-f16e-49d5-abe1-f54444ebd2e5",
        "outputId": "a99fafdc-dba2-41bc-de1c-7427332ea847"
      },
      "outputs": [
        {
          "name": "stdout",
          "output_type": "stream",
          "text": [
            "50000\n",
            "50000\n"
          ]
        }
      ],
      "source": [
        "#import sys\n",
        "'''\n",
        "sys.path.append(\"../Qiskit_Dynamic_Modelling\")\n",
        "sys.path.append(\"./modelQ\")\n",
        "sys.path.append(\"./dynamicsQ\")\n",
        "'''\n",
        "sys.path.append(\"./sample_data\")\n",
        "from dataloader import *\n",
        "train_data = np.load('/content/sample_data/train_dataset.npz')\n",
        "train_inputs = train_data[\"input\"]\n",
        "train_labels = train_data[\"labels\"]\n",
        "X_inputs = train_inputs[:50000]\n",
        "y_labels = train_labels[:50000]\n",
        "#train_dataset = DynamicsDataset(train_inputs, train_labels)\n",
        "train_dataset = DynamicsDataset(X_inputs, y_labels)\n",
        "\n",
        "train_dataloader = torch.utils.data.DataLoader(train_dataset,\n",
        "                                                 batch_size=1,\n",
        "                                                 shuffle=True,\n",
        "                                                 collate_fn=DynamicsDataset.collate_fn,\n",
        "                                                 pin_memory=True,\n",
        "                                                 num_workers=1)\n",
        "print(len(X_inputs))\n",
        "print(len(y_labels))\n"
      ]
    },
    {
      "cell_type": "code",
      "execution_count": null,
      "metadata": {
        "id": "aa3cc82e-5c3c-44a6-a720-b4a9ddcc4cb1"
      },
      "outputs": [],
      "source": [
        "from qiskit import transpile, assemble\n",
        "class QuanvCircuit:\n",
        "    \"\"\" \n",
        "    This class defines filter circuit of Quanvolution layer\n",
        "    \"\"\"    \n",
        "    def __init__(self, kernel_size, backend, shots, threshold):\n",
        "        # --- Circuit definition start ---\n",
        "        self.n_qubits = kernel_size ** 2\n",
        "        self._circuit = qiskit.QuantumCircuit(self.n_qubits)\n",
        "        self.theta = [qiskit.circuit.Parameter('theta{}'.format(i)) for i in range(self.n_qubits)]\n",
        "\n",
        "        for i in range(self.n_qubits):\n",
        "            self._circuit.rx(self.theta[i], i)\n",
        "        \n",
        "        self._circuit.barrier()\n",
        "        self._circuit.measure_all()\n",
        "        # ---- Circuit definition end ----\n",
        "        self.backend   = backend\n",
        "        self.shots     = shots\n",
        "        self.threshold = threshold\n",
        "\n",
        "    def run(self, data):\n",
        "        # encoding data to parameters\n",
        "        thetas = [data]\n",
        "        \n",
        "        param_dict = dict()\n",
        "        for theta in thetas:\n",
        "            for i in range(self.n_qubits):\n",
        "                param_dict[self.theta[i]] = theta[i]\n",
        "        param_binds = [param_dict]\n",
        "\n",
        "        List = [thetas]\n",
        "        t_qc = transpile(self._circuit,\n",
        "                         self.backend)\n",
        "        qobj = assemble(t_qc,\n",
        "                        shots=self.shots,\n",
        "                        parameter_binds = param_binds)\n",
        "        job = self.backend.run(qobj)\n",
        "        result = job.result().get_counts()\n",
        "\n",
        "        # decoding the result\n",
        "        counts = 0\n",
        "        for key, val in result.items():\n",
        "            cnt = sum([int(char) for char in key])\n",
        "            counts += cnt * val\n",
        "        \n",
        "        probabilities = counts / (self.shots * self.n_qubits)\n",
        "        \n",
        "        return probabilities"
      ]
    },
    {
      "cell_type": "code",
      "execution_count": null,
      "metadata": {
        "colab": {
          "base_uri": "https://localhost:8080/",
          "height": 221
        },
        "id": "WhhoZY7aEwwz",
        "outputId": "66a66f46-d026-4978-9679-eb3174a62883"
      },
      "outputs": [
        {
          "name": "stdout",
          "output_type": "stream",
          "text": [
            "[-2.8351264, 1.3314428, -0.18492305, 0.00792312]\n",
            "0.3375\n"
          ]
        },
        {
          "data": {
            "text/html": [
              "<pre style=\"word-wrap: normal;white-space: pre;background: #fff0;line-height: 1.1;font-family: &quot;Courier New&quot;,Courier,monospace\">        ┌────────────┐ ░  ░ ┌─┐         \n",
              "   q_0: ┤ Rx(theta0) ├─░──░─┤M├─────────\n",
              "        ├────────────┤ ░  ░ └╥┘┌─┐      \n",
              "   q_1: ┤ Rx(theta1) ├─░──░──╫─┤M├──────\n",
              "        ├────────────┤ ░  ░  ║ └╥┘┌─┐   \n",
              "   q_2: ┤ Rx(theta2) ├─░──░──╫──╫─┤M├───\n",
              "        ├────────────┤ ░  ░  ║  ║ └╥┘┌─┐\n",
              "   q_3: ┤ Rx(theta3) ├─░──░──╫──╫──╫─┤M├\n",
              "        └────────────┘ ░  ░  ║  ║  ║ └╥┘\n",
              "meas: 4/═════════════════════╩══╩══╩══╩═\n",
              "                             0  1  2  3 </pre>"
            ],
            "text/plain": [
              "        ┌────────────┐ ░  ░ ┌─┐         \n",
              "   q_0: ┤ Rx(theta0) ├─░──░─┤M├─────────\n",
              "        ├────────────┤ ░  ░ └╥┘┌─┐      \n",
              "   q_1: ┤ Rx(theta1) ├─░──░──╫─┤M├──────\n",
              "        ├────────────┤ ░  ░  ║ └╥┘┌─┐   \n",
              "   q_2: ┤ Rx(theta2) ├─░──░──╫──╫─┤M├───\n",
              "        ├────────────┤ ░  ░  ║  ║ └╥┘┌─┐\n",
              "   q_3: ┤ Rx(theta3) ├─░──░──╫──╫──╫─┤M├\n",
              "        └────────────┘ ░  ░  ║  ║  ║ └╥┘\n",
              "meas: 4/═════════════════════╩══╩══╩══╩═\n",
              "                             0  1  2  3 "
            ]
          },
          "execution_count": 9,
          "metadata": {},
          "output_type": "execute_result"
        }
      ],
      "source": [
        "backend = qiskit.Aer.get_backend('qasm_simulator')\n",
        "filter_size = 2\n",
        "circ = QuanvCircuit(filter_size, backend, 100, 127)\n",
        "#data = torch.tensor([[0, 200], [100, 255]])\n",
        "#data = torch.tensor([-2.8351264, 1.3314428,  -0.18492305,  0.00792312]).numpy()#1,2,3,4]).numpy()\n",
        "data = [-2.8351264,  1.3314428,  -0.18492305,  0.00792312]\n",
        "\n",
        "#\n",
        "print(data)\n",
        "#print(data.size())\n",
        "print(circ.run(data))\n",
        "\n",
        "circ._circuit.draw()#output='mpl')"
      ]
    },
    {
      "cell_type": "code",
      "execution_count": null,
      "metadata": {
        "id": "63ceaaec-c874-4a03-b5b8-9a27d9b1d831"
      },
      "outputs": [],
      "source": [
        "import qiskit\n",
        "backend = qiskit.Aer.get_backend('qasm_simulator')\n",
        "filter_size = 2\n",
        "circ = QuanvCircuit(filter_size, backend, 100, 127)"
      ]
    },
    {
      "cell_type": "code",
      "execution_count": null,
      "metadata": {
        "colab": {
          "background_save": true,
          "base_uri": "https://localhost:8080/"
        },
        "id": "5802483f-cf78-45dc-a4d9-8ae649c5e997",
        "outputId": "f040813c-d118-4bec-dbd0-c0de2825e377"
      },
      "outputs": [
        {
          "name": "stdout",
          "output_type": "stream",
          "text": [
            "Loading Training data\n"
          ]
        },
        {
          "name": "stderr",
          "output_type": "stream",
          "text": [
            "./sample_data/dataloader.py:35: UserWarning: Creating a tensor from a list of numpy.ndarrays is extremely slow. Please consider converting the list to a single numpy.ndarray with numpy.array() before converting to a tensor. (Triggered internally at  ../torch/csrc/utils/tensor_new.cpp:201.)\n",
            "  batch_x = torch.as_tensor(batch_x)\n"
          ]
        },
        {
          "name": "stdout",
          "output_type": "stream",
          "text": [
            "x data 50000\n",
            "y data 50000\n"
          ]
        }
      ],
      "source": [
        "#for (X_train, y_train) in train_dataloader:\n",
        "print('Loading Training data')\n",
        "xVal = []\n",
        "yVal = []\n",
        "#count = 0\n",
        "for (X_train, y_train) in train_dataloader:\n",
        "    #print('Training Starts')\n",
        "    #print(X_train.detach().numpy()[0])\n",
        "    #print(y_train.detach().numpy()[0])\n",
        "    x = circ.run(X_train.detach().numpy()[0])\n",
        "    y = circ.run(y_train.detach().numpy()[0])\n",
        "    #regressor.fit(x, y)\n",
        "    \n",
        "    xVal.append([x])\n",
        "    yVal.append(y)\n",
        "    '''\n",
        "    count += 1\n",
        "    \n",
        "    if (count == 50000):\n",
        "        print('Loaded data :',count)\n",
        "        break\n",
        "    '''\n",
        "print('x data',len(xVal))\n",
        "print('y data',len(yVal))\n"
      ]
    },
    {
      "cell_type": "code",
      "execution_count": 12,
      "metadata": {
        "colab": {
          "base_uri": "https://localhost:8080/",
          "height": 312
        },
        "id": "2dc34a78-f3b9-419a-8f38-1871507ba4ab",
        "outputId": "692c618c-43ba-4a4f-f195-89d67ca71129"
      },
      "outputs": [
        {
          "output_type": "display_data",
          "data": {
            "image/png": "[encoded data removed]",
            "text/plain": [
              "<Figure size 432x288 with 1 Axes>"
            ]
          },
          "metadata": {
            "needs_background": "light"
          }
        },
        {
          "output_type": "stream",
          "name": "stdout",
          "text": [
            "Total Training Time : 7051.831350326538\n"
          ]
        }
      ],
      "source": [
        "#print(torch.tensor(xVal).detach().numpy())\n",
        "#print(torch.tensor(yVal).detach().numpy())\n",
        "import time\n",
        "print('Training Started')\n",
        "startTime = time.time()\n",
        "regressor.fit(torch.tensor(xVal).detach().numpy(), torch.tensor(yVal).detach().numpy())\n",
        "print('Total Training Time :', (time.time()-startTime))"
      ]
    },
    {
      "cell_type": "code",
      "execution_count": 13,
      "metadata": {
        "colab": {
          "base_uri": "https://localhost:8080/"
        },
        "id": "8461f308-9340-42ec-9c42-97c26d206f87",
        "outputId": "09f62c37-5182-4baa-acbd-6e29b582e962"
      },
      "outputs": [
        {
          "output_type": "execute_result",
          "data": {
            "text/plain": [
              "-1.0083991836847592"
            ]
          },
          "metadata": {},
          "execution_count": 13
        }
      ],
      "source": [
        "# create empty array for callback to store evaluations of the objective function\n",
        "'''\n",
        "objective_func_vals = []\n",
        "plt.rcParams[\"figure.figsize\"] = (12, 6)\n",
        "\n",
        "# fit to data\n",
        "#set_trace()\n",
        "\n",
        "#import pdb; pdb.set_trace()\n",
        "#regressor.fit(X, y)\n",
        "regressor.fit([1], 1)\n",
        "'''\n",
        "# return to default figsize\n",
        "#plt.rcParams[\"figure.figsize\"] = (6, 4)\n",
        "\n",
        "# score the result\n",
        "regressor.score(torch.tensor(xVal).detach().numpy(), torch.tensor(yVal).detach().numpy())\n"
      ]
    },
    {
      "cell_type": "code",
      "execution_count": 14,
      "metadata": {
        "id": "44fa919e-2fee-429e-ae6d-98a324976b90",
        "colab": {
          "base_uri": "https://localhost:8080/"
        },
        "outputId": "3082fb28-9d48-4016-ae37-e60043e12509"
      },
      "outputs": [
        {
          "output_type": "stream",
          "name": "stdout",
          "text": [
            "[17497.53775066666, 4211.549464196395, 3357.536011807917, 1503.9061848238787, 1483.5268802255184, 1484.4908214588766, 1484.2207121472027, 1484.0932874567195, 1491.3789444947095, 1482.8597319869539, 1484.92946745298, 1481.9600680875417, 1486.2004153809164, 1491.457017724896]\n"
          ]
        }
      ],
      "source": [
        "print(objective_func_vals)"
      ]
    }
  ],
  "metadata": {
    "colab": {
      "collapsed_sections": [],
      "name": "FullQuantum_LDNN.ipynb",
      "provenance": []
    },
    "kernelspec": {
      "display_name": "Python 3",
      "name": "python3"
    },
    "language_info": {
      "name": "python"
    }
  },
  "nbformat": 4,
  "nbformat_minor": 0
}