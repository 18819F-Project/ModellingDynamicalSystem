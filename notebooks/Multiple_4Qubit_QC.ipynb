{
  "cells": [
    {
      "cell_type": "code",
      "source": [
        "!pip install qiskit"
      ],
      "metadata": {
        "colab": {
          "base_uri": "https://localhost:8080/"
        },
        "id": "OZgd3UMJoRdr",
        "outputId": "0f454a1d-77bd-43b7-861b-0028f0108aa3"
      },
      "id": "OZgd3UMJoRdr",
      "execution_count": 5,
      "outputs": [
        {
          "output_type": "stream",
          "name": "stdout",
          "text": [
            "Collecting qiskit\n",
            "  Downloading qiskit-0.33.0.tar.gz (13 kB)\n",
            "Collecting qiskit-terra==0.19.0\n",
            "  Downloading qiskit_terra-0.19.0-cp37-cp37m-manylinux2010_x86_64.whl (6.4 MB)\n",
            "\u001b[K     |████████████████████████████████| 6.4 MB 4.7 MB/s \n",
            "\u001b[?25hCollecting qiskit-aer==0.9.1\n",
            "  Downloading qiskit_aer-0.9.1-cp37-cp37m-manylinux_2_12_x86_64.manylinux2010_x86_64.whl (17.9 MB)\n",
            "\u001b[K     |████████████████████████████████| 17.9 MB 621 kB/s \n",
            "\u001b[?25hCollecting qiskit-ibmq-provider==0.18.1\n",
            "  Downloading qiskit_ibmq_provider-0.18.1-py3-none-any.whl (237 kB)\n",
            "\u001b[K     |████████████████████████████████| 237 kB 61.4 MB/s \n",
            "\u001b[?25hCollecting qiskit-ignis==0.7.0\n",
            "  Downloading qiskit_ignis-0.7.0-py3-none-any.whl (200 kB)\n",
            "\u001b[K     |████████████████████████████████| 200 kB 59.1 MB/s \n",
            "\u001b[?25hRequirement already satisfied: scipy>=1.0 in /usr/local/lib/python3.7/dist-packages (from qiskit-aer==0.9.1->qiskit) (1.4.1)\n",
            "Requirement already satisfied: numpy>=1.16.3 in /usr/local/lib/python3.7/dist-packages (from qiskit-aer==0.9.1->qiskit) (1.19.5)\n",
            "Collecting requests-ntlm>=1.1.0\n",
            "  Downloading requests_ntlm-1.1.0-py2.py3-none-any.whl (5.7 kB)\n",
            "Requirement already satisfied: urllib3>=1.21.1 in /usr/local/lib/python3.7/dist-packages (from qiskit-ibmq-provider==0.18.1->qiskit) (1.24.3)\n",
            "Requirement already satisfied: requests>=2.19 in /usr/local/lib/python3.7/dist-packages (from qiskit-ibmq-provider==0.18.1->qiskit) (2.23.0)\n",
            "Collecting websocket-client>=1.0.1\n",
            "  Downloading websocket_client-1.2.3-py3-none-any.whl (53 kB)\n",
            "\u001b[K     |████████████████████████████████| 53 kB 2.0 MB/s \n",
            "\u001b[?25hRequirement already satisfied: python-dateutil>=2.8.0 in /usr/local/lib/python3.7/dist-packages (from qiskit-ibmq-provider==0.18.1->qiskit) (2.8.2)\n",
            "Requirement already satisfied: setuptools>=40.1.0 in /usr/local/lib/python3.7/dist-packages (from qiskit-ignis==0.7.0->qiskit) (57.4.0)\n",
            "Collecting retworkx>=0.8.0\n",
            "  Downloading retworkx-0.10.2-cp37-cp37m-manylinux_2_5_x86_64.manylinux1_x86_64.manylinux_2_12_x86_64.manylinux2010_x86_64.whl (1.4 MB)\n",
            "\u001b[K     |████████████████████████████████| 1.4 MB 34.7 MB/s \n",
            "\u001b[?25hCollecting symengine>=0.8\n",
            "  Downloading symengine-0.8.1-cp37-cp37m-manylinux2010_x86_64.whl (38.2 MB)\n",
            "\u001b[K     |████████████████████████████████| 38.2 MB 1.3 MB/s \n",
            "\u001b[?25hCollecting stevedore>=3.0.0\n",
            "  Downloading stevedore-3.5.0-py3-none-any.whl (49 kB)\n",
            "\u001b[K     |████████████████████████████████| 49 kB 6.2 MB/s \n",
            "\u001b[?25hRequirement already satisfied: sympy>=1.3 in /usr/local/lib/python3.7/dist-packages (from qiskit-terra==0.19.0->qiskit) (1.7.1)\n",
            "Collecting python-constraint>=1.4\n",
            "  Downloading python-constraint-1.4.0.tar.bz2 (18 kB)\n",
            "Collecting scipy>=1.0\n",
            "  Downloading scipy-1.7.3-cp37-cp37m-manylinux_2_12_x86_64.manylinux2010_x86_64.whl (38.1 MB)\n",
            "\u001b[K     |████████████████████████████████| 38.1 MB 1.3 MB/s \n",
            "\u001b[?25hCollecting tweedledum<2.0,>=1.1\n",
            "  Downloading tweedledum-1.1.1-cp37-cp37m-manylinux_2_12_x86_64.manylinux2010_x86_64.whl (943 kB)\n",
            "\u001b[K     |████████████████████████████████| 943 kB 45.1 MB/s \n",
            "\u001b[?25hRequirement already satisfied: psutil>=5 in /usr/local/lib/python3.7/dist-packages (from qiskit-terra==0.19.0->qiskit) (5.4.8)\n",
            "Requirement already satisfied: dill>=0.3 in /usr/local/lib/python3.7/dist-packages (from qiskit-terra==0.19.0->qiskit) (0.3.4)\n",
            "Collecting ply>=3.10\n",
            "  Downloading ply-3.11-py2.py3-none-any.whl (49 kB)\n",
            "\u001b[K     |████████████████████████████████| 49 kB 6.1 MB/s \n",
            "\u001b[?25hRequirement already satisfied: six>=1.5 in /usr/local/lib/python3.7/dist-packages (from python-dateutil>=2.8.0->qiskit-ibmq-provider==0.18.1->qiskit) (1.15.0)\n",
            "Requirement already satisfied: chardet<4,>=3.0.2 in /usr/local/lib/python3.7/dist-packages (from requests>=2.19->qiskit-ibmq-provider==0.18.1->qiskit) (3.0.4)\n",
            "Requirement already satisfied: idna<3,>=2.5 in /usr/local/lib/python3.7/dist-packages (from requests>=2.19->qiskit-ibmq-provider==0.18.1->qiskit) (2.10)\n",
            "Requirement already satisfied: certifi>=2017.4.17 in /usr/local/lib/python3.7/dist-packages (from requests>=2.19->qiskit-ibmq-provider==0.18.1->qiskit) (2021.10.8)\n",
            "Collecting cryptography>=1.3\n",
            "  Downloading cryptography-36.0.0-cp36-abi3-manylinux_2_24_x86_64.whl (3.6 MB)\n",
            "\u001b[K     |████████████████████████████████| 3.6 MB 19.7 MB/s \n",
            "\u001b[?25hCollecting ntlm-auth>=1.0.2\n",
            "  Downloading ntlm_auth-1.5.0-py2.py3-none-any.whl (29 kB)\n",
            "Requirement already satisfied: cffi>=1.12 in /usr/local/lib/python3.7/dist-packages (from cryptography>=1.3->requests-ntlm>=1.1.0->qiskit-ibmq-provider==0.18.1->qiskit) (1.15.0)\n",
            "Requirement already satisfied: pycparser in /usr/local/lib/python3.7/dist-packages (from cffi>=1.12->cryptography>=1.3->requests-ntlm>=1.1.0->qiskit-ibmq-provider==0.18.1->qiskit) (2.21)\n",
            "Requirement already satisfied: importlib-metadata>=1.7.0 in /usr/local/lib/python3.7/dist-packages (from stevedore>=3.0.0->qiskit-terra==0.19.0->qiskit) (4.8.2)\n",
            "Collecting pbr!=2.1.0,>=2.0.0\n",
            "  Downloading pbr-5.8.0-py2.py3-none-any.whl (112 kB)\n",
            "\u001b[K     |████████████████████████████████| 112 kB 60.6 MB/s \n",
            "\u001b[?25hRequirement already satisfied: typing-extensions>=3.6.4 in /usr/local/lib/python3.7/dist-packages (from importlib-metadata>=1.7.0->stevedore>=3.0.0->qiskit-terra==0.19.0->qiskit) (3.10.0.2)\n",
            "Requirement already satisfied: zipp>=0.5 in /usr/local/lib/python3.7/dist-packages (from importlib-metadata>=1.7.0->stevedore>=3.0.0->qiskit-terra==0.19.0->qiskit) (3.6.0)\n",
            "Requirement already satisfied: mpmath>=0.19 in /usr/local/lib/python3.7/dist-packages (from sympy>=1.3->qiskit-terra==0.19.0->qiskit) (1.2.1)\n",
            "Building wheels for collected packages: qiskit, python-constraint\n",
            "  Building wheel for qiskit (setup.py) ... \u001b[?25l\u001b[?25hdone\n",
            "  Created wheel for qiskit: filename=qiskit-0.33.0-py3-none-any.whl size=11763 sha256=f90de4a758faa8aa63936577ad98bb51caac39aab1bd172ede9b614391fd1766\n",
            "  Stored in directory: /root/.cache/pip/wheels/d4/60/ef/c49ae113df02818c4ade5fb6e2e89bb928625412eda0bb25f5\n",
            "  Building wheel for python-constraint (setup.py) ... \u001b[?25l\u001b[?25hdone\n",
            "  Created wheel for python-constraint: filename=python_constraint-1.4.0-py2.py3-none-any.whl size=24081 sha256=652bafd2fd27167bd2a4e6743482be7f82ceac223e922cd6fd72e9aa45c1437c\n",
            "  Stored in directory: /root/.cache/pip/wheels/07/27/db/1222c80eb1e431f3d2199c12569cb1cac60f562a451fe30479\n",
            "Successfully built qiskit python-constraint\n",
            "Installing collected packages: pbr, tweedledum, symengine, stevedore, scipy, retworkx, python-constraint, ply, ntlm-auth, cryptography, websocket-client, requests-ntlm, qiskit-terra, qiskit-ignis, qiskit-ibmq-provider, qiskit-aer, qiskit\n",
            "  Attempting uninstall: scipy\n",
            "    Found existing installation: scipy 1.4.1\n",
            "    Uninstalling scipy-1.4.1:\n",
            "      Successfully uninstalled scipy-1.4.1\n",
            "\u001b[31mERROR: pip's dependency resolver does not currently take into account all the packages that are installed. This behaviour is the source of the following dependency conflicts.\n",
            "albumentations 0.1.12 requires imgaug<0.2.7,>=0.2.5, but you have imgaug 0.2.9 which is incompatible.\u001b[0m\n",
            "Successfully installed cryptography-36.0.0 ntlm-auth-1.5.0 pbr-5.8.0 ply-3.11 python-constraint-1.4.0 qiskit-0.33.0 qiskit-aer-0.9.1 qiskit-ibmq-provider-0.18.1 qiskit-ignis-0.7.0 qiskit-terra-0.19.0 requests-ntlm-1.1.0 retworkx-0.10.2 scipy-1.7.3 stevedore-3.5.0 symengine-0.8.1 tweedledum-1.1.1 websocket-client-1.2.3\n"
          ]
        }
      ]
    },
    {
      "cell_type": "code",
      "execution_count": 6,
      "id": "2bdf8ecf-e158-4f63-8813-9c55be438073",
      "metadata": {
        "id": "2bdf8ecf-e158-4f63-8813-9c55be438073"
      },
      "outputs": [],
      "source": [
        "import qiskit\n",
        "from qiskit.circuit.random import random_circuit\n",
        "from qiskit import transpile, assemble"
      ]
    },
    {
      "cell_type": "code",
      "execution_count": 7,
      "id": "c763adc9-7fe5-44f6-8a9a-72f30e641562",
      "metadata": {
        "id": "c763adc9-7fe5-44f6-8a9a-72f30e641562"
      },
      "outputs": [],
      "source": [
        "import matplotlib.pyplot as plt\n",
        "%matplotlib inline\n",
        "\n",
        "import torch\n",
        "import torch.utils.data\n",
        "from torch.autograd import Function\n",
        "from torchvision import datasets, transforms\n",
        "import torch.optim as optim\n",
        "import torch.nn as nn\n",
        "import torch.nn.functional as F\n",
        "\n",
        "from itertools import combinations\n",
        "import numpy as np\n",
        "import matplotlib.pyplot as plt\n",
        "from __future__ import print_function\n",
        "\n",
        "import os\n",
        "import sys"
      ]
    },
    {
      "cell_type": "code",
      "execution_count": 8,
      "id": "06531ccd-1b9f-4f08-8c98-d0cc9315f3f1",
      "metadata": {
        "tags": [],
        "id": "06531ccd-1b9f-4f08-8c98-d0cc9315f3f1"
      },
      "outputs": [],
      "source": [
        "#Custom library\n",
        "'''\n",
        "sys.path.append(\"../LQDNN\")\n",
        "sys.path.append(\"../LQDNN/model\")\n",
        "sys.path.append(\"../LQDNN/dynamics\")\n",
        "'''\n",
        "sys.path.append(\"./sample_data\")\n",
        "from visualize import *\n",
        "from ode_solver import *\n",
        "from network import *\n",
        "from dataloader import *\n",
        "from lagrangian import *"
      ]
    },
    {
      "cell_type": "code",
      "execution_count": 10,
      "id": "3e5037ab-2b3d-45c8-94c5-cc6423ba1522",
      "metadata": {
        "colab": {
          "base_uri": "https://localhost:8080/"
        },
        "id": "3e5037ab-2b3d-45c8-94c5-cc6423ba1522",
        "outputId": "7fd8a0dc-a144-4aeb-93de-7e034987f454"
      },
      "outputs": [
        {
          "output_type": "stream",
          "name": "stdout",
          "text": [
            "Loading training and test data...\n",
            "Loading training and test data completed\n"
          ]
        }
      ],
      "source": [
        "print(\"Loading training and test data...\")\n",
        "train_data = np.load('/content/sample_data/train_dataset.npz')\n",
        "train_inputs = train_data[\"input\"]\n",
        "train_labels = train_data[\"labels\"]\n",
        "\n",
        "#train_dataset = DynamicsDataset(train_inputs, train_labels)\n",
        "X_train = train_inputs[:1000]\n",
        "y_train = train_labels[:1000]\n",
        "\n",
        "#train_dataset = DynamicsDataset(train_inputs, train_labels)\n",
        "train_dataset = DynamicsDataset(X_train, y_train)\n",
        "\n",
        "train_dataloader = torch.utils.data.DataLoader(train_dataset,\n",
        "                                                 batch_size=1,\n",
        "                                                 shuffle=True,\n",
        "                                                 collate_fn=DynamicsDataset.collate_fn,\n",
        "                                                 pin_memory=True,\n",
        "                                                 num_workers=1)\n",
        "test_data = np.load('/content/sample_data/val_dataset.npz')\n",
        "test_inputs = train_data[\"input\"]\n",
        "test_labels = train_data[\"labels\"]\n",
        "#print(len(test_inputs))\n",
        "X_test = test_inputs[:1000]\n",
        "y_test = test_labels[:1000]\n",
        "\n",
        "test_dataset = DynamicsDataset(X_test, y_test)\n",
        "\n",
        "test_dataloader = torch.utils.data.DataLoader(test_dataset,\n",
        "                                                 batch_size=1,\n",
        "                                                 shuffle=False,\n",
        "                                                 collate_fn=DynamicsDataset.collate_fn,\n",
        "                                                 pin_memory=True,\n",
        "                                                 num_workers=1)\n",
        "print(\"Loading training and test data completed\")"
      ]
    },
    {
      "cell_type": "code",
      "execution_count": 11,
      "id": "3243769e-9364-42ff-826e-e93dd4c23994",
      "metadata": {
        "colab": {
          "base_uri": "https://localhost:8080/"
        },
        "id": "3243769e-9364-42ff-826e-e93dd4c23994",
        "outputId": "a2bc256c-3232-499f-a960-502cf4390985"
      },
      "outputs": [
        {
          "output_type": "stream",
          "name": "stderr",
          "text": [
            "./sample_data/dataloader.py:35: UserWarning: Creating a tensor from a list of numpy.ndarrays is extremely slow. Please consider converting the list to a single numpy.ndarray with numpy.array() before converting to a tensor. (Triggered internally at  ../torch/csrc/utils/tensor_new.cpp:201.)\n",
            "  batch_x = torch.as_tensor(batch_x)\n"
          ]
        },
        {
          "output_type": "stream",
          "name": "stdout",
          "text": [
            "X_train: torch.Size([1, 4]) type: torch.DoubleTensor\n",
            "y_train: torch.Size([1, 4]) type: torch.DoubleTensor\n",
            "X_train: tensor([[ 0.4006, -2.1999, -0.1462, -0.0383]], dtype=torch.float64)\n",
            "y_train: tensor([[-0.1462, -0.0383, -0.6669,  7.3712]], dtype=torch.float64)\n"
          ]
        },
        {
          "output_type": "stream",
          "name": "stderr",
          "text": [
            "./sample_data/dataloader.py:35: UserWarning: Creating a tensor from a list of numpy.ndarrays is extremely slow. Please consider converting the list to a single numpy.ndarray with numpy.array() before converting to a tensor. (Triggered internally at  ../torch/csrc/utils/tensor_new.cpp:201.)\n",
            "  batch_x = torch.as_tensor(batch_x)\n"
          ]
        },
        {
          "output_type": "stream",
          "name": "stdout",
          "text": [
            "X_test: torch.Size([1, 4]) type: torch.DoubleTensor\n",
            "y_test: torch.Size([1, 4]) type: torch.DoubleTensor\n",
            "X_test: tensor([[ 1.9537,  0.2797, -0.0780, -0.2268]], dtype=torch.float64)\n",
            "y_test: tensor([[-0.0780, -0.2268, -9.3138, -3.6618]], dtype=torch.float64)\n"
          ]
        }
      ],
      "source": [
        "for (X_train, y_train) in train_dataloader:\n",
        "    print('X_train:', X_train.size(), 'type:', X_train.type())\n",
        "    print('y_train:', y_train.size(), 'type:', y_train.type())\n",
        "    print('X_train:', X_train)\n",
        "    print('y_train:', y_train)\n",
        "    break\n",
        "\n",
        "for (X_test, y_test) in test_dataloader:\n",
        "    print('X_test:', X_test.size(), 'type:', X_test.type())\n",
        "    print('y_test:', y_test.size(), 'type:', y_test.type())\n",
        "    print('X_test:', X_test)\n",
        "    print('y_test:', y_test)\n",
        "    break"
      ]
    },
    {
      "cell_type": "code",
      "execution_count": 12,
      "id": "ee5f9916-4dc6-4a63-8329-c36811e77460",
      "metadata": {
        "id": "ee5f9916-4dc6-4a63-8329-c36811e77460"
      },
      "outputs": [],
      "source": [
        "class QCircuit:\n",
        "    \"\"\" \n",
        "    This class defines filter circuit of Quanvolution layer\n",
        "    \"\"\"\n",
        "    \n",
        "    def __init__(self, num_qubit, backend, shots):\n",
        "        # --- Circuit definition start ---\n",
        "        self.n_qubits = num_qubit\n",
        "        self._circuit = qiskit.QuantumCircuit(self.n_qubits,2)\n",
        "        \n",
        "        all_qubits = [i for i in range(self.n_qubits)]        \n",
        "        self._circuit.h(all_qubits)\n",
        "        \n",
        "        self.theta = [qiskit.circuit.Parameter('theta{}'.format(i)) for i in range(self.n_qubits)]\n",
        "\n",
        "        for i in range(self.n_qubits):\n",
        "            self._circuit.rx(self.theta[i], i)\n",
        "        \n",
        "        self._circuit.cx(0,2)\n",
        "        self._circuit.cx(1,3)\n",
        "        \n",
        "        self._circuit.barrier()\n",
        "        \n",
        "        self._circuit.measure(2,0)\n",
        "        self._circuit.measure(3,1)\n",
        "        \n",
        "        # ---- Circuit definition end ----\n",
        "\n",
        "        self.backend   = backend\n",
        "        self.shots     = shots\n",
        "\n",
        "    def run(self, data):\n",
        "        ListTarget = []\n",
        "        for valT in data.detach().numpy():\n",
        "            for j in range(len(valT)):\n",
        "                ListTarget.append(valT[j])\n",
        "        param_dict = dict()\n",
        "        \n",
        "        i= 0\n",
        "        for theta in ListTarget:\n",
        "            param_dict[self.theta[i]] = theta#[i]\n",
        "            i += 1\n",
        "        param_binds = [param_dict]\n",
        "        \n",
        "        t_qc = transpile(self._circuit,\n",
        "                         self.backend)\n",
        "        qobj = assemble(t_qc,\n",
        "                        shots=self.shots,\n",
        "                        parameter_binds = param_binds)\n",
        "        job = self.backend.run(qobj)\n",
        "        result = job.result().get_counts()\n",
        "        \n",
        "        probabilities = []\n",
        "        counts = 0\n",
        "        for key, val in result.items():\n",
        "            cnt = sum([int(char) for char in key])\n",
        "            counts += cnt * val\n",
        "\n",
        "            # Compute probabilities for each state\n",
        "            probab = counts / (self.shots * self.n_qubits)\n",
        "            probabilities.append(probab)\n",
        "        \n",
        "        return probabilities"
      ]
    },
    {
      "cell_type": "code",
      "execution_count": 14,
      "id": "f4d7ec78-fc04-4bd8-b64a-43842314e26b",
      "metadata": {
        "colab": {
          "base_uri": "https://localhost:8080/",
          "height": 204
        },
        "id": "f4d7ec78-fc04-4bd8-b64a-43842314e26b",
        "outputId": "6a530727-63c8-49c9-f0ba-25f2d12f3714"
      },
      "outputs": [
        {
          "output_type": "stream",
          "name": "stdout",
          "text": [
            "[0.0, 0.0625, 0.1175, 0.2475]\n"
          ]
        },
        {
          "output_type": "execute_result",
          "data": {
            "text/html": [
              "<pre style=\"word-wrap: normal;white-space: pre;background: #fff0;line-height: 1.1;font-family: &quot;Courier New&quot;,Courier,monospace\">     ┌───┐┌────────────┐           ░       \n",
              "q_0: ┤ H ├┤ Rx(theta0) ├──■────────░───────\n",
              "     ├───┤├────────────┤  │        ░       \n",
              "q_1: ┤ H ├┤ Rx(theta1) ├──┼────■───░───────\n",
              "     ├───┤├────────────┤┌─┴─┐  │   ░ ┌─┐   \n",
              "q_2: ┤ H ├┤ Rx(theta2) ├┤ X ├──┼───░─┤M├───\n",
              "     ├───┤├────────────┤└───┘┌─┴─┐ ░ └╥┘┌─┐\n",
              "q_3: ┤ H ├┤ Rx(theta3) ├─────┤ X ├─░──╫─┤M├\n",
              "     └───┘└────────────┘     └───┘ ░  ║ └╥┘\n",
              "c: 2/═════════════════════════════════╩══╩═\n",
              "                                      0  1 </pre>"
            ],
            "text/plain": [
              "     ┌───┐┌────────────┐           ░       \n",
              "q_0: ┤ H ├┤ Rx(theta0) ├──■────────░───────\n",
              "     ├───┤├────────────┤  │        ░       \n",
              "q_1: ┤ H ├┤ Rx(theta1) ├──┼────■───░───────\n",
              "     ├───┤├────────────┤┌─┴─┐  │   ░ ┌─┐   \n",
              "q_2: ┤ H ├┤ Rx(theta2) ├┤ X ├──┼───░─┤M├───\n",
              "     ├───┤├────────────┤└───┘┌─┴─┐ ░ └╥┘┌─┐\n",
              "q_3: ┤ H ├┤ Rx(theta3) ├─────┤ X ├─░──╫─┤M├\n",
              "     └───┘└────────────┘     └───┘ ░  ║ └╥┘\n",
              "c: 2/═════════════════════════════════╩══╩═\n",
              "                                      0  1 "
            ]
          },
          "metadata": {},
          "execution_count": 14
        }
      ],
      "source": [
        "#Testing the circuit\n",
        "backend = qiskit.Aer.get_backend('qasm_simulator')\n",
        "num_qubit = 4\n",
        "circ = QCircuit(num_qubit, backend, 100)\n",
        "data = torch.tensor([[-0.2397, -2.9656, -0.1623, -0.0680]])\n",
        "\n",
        "print(circ.run(data))\n",
        "circ._circuit.draw()#output='mpl')"
      ]
    },
    {
      "cell_type": "code",
      "execution_count": 15,
      "id": "9913cd6c-42a7-44e9-adb7-d59c99b8d241",
      "metadata": {
        "id": "9913cd6c-42a7-44e9-adb7-d59c99b8d241"
      },
      "outputs": [],
      "source": [
        "class HybridFunction(Function):\n",
        "    \"\"\" Hybrid quantum - classical function definition \"\"\"\n",
        "    \n",
        "    @staticmethod\n",
        "    def forward(ctx, input, quantum_circuit, shift):\n",
        "        \"\"\" Forward pass computation \"\"\"\n",
        "        ##print('hFor:', input)\n",
        "        #print('hFor1:', input[0])\n",
        "        #print('hFor2:', input[0].tolist())\n",
        "        ctx.shift = shift\n",
        "        ctx.quantum_circuit = quantum_circuit\n",
        "        #expectation_z = []\n",
        "        #for i in range(len(input)):\n",
        "        #    expectation_z.append(ctx.quantum_circuit.run(input[i].tolist()))\n",
        "        #print('expectation_z',expectation_z)\n",
        "        expectation_z = ctx.quantum_circuit.run(input[0].tolist())\n",
        "        result = torch.tensor([expectation_z])\n",
        "        #result = torch.tensor(expectation_z)\n",
        "        ctx.save_for_backward(input, result)\n",
        "\n",
        "        return result\n",
        "        \n",
        "    @staticmethod\n",
        "    def backward(ctx, grad_output):\n",
        "        \"\"\" Backward pass computation \"\"\"\n",
        "        print('a')\n",
        "        input, expectation_z = ctx.saved_tensors\n",
        "        input_list = np.array(input.tolist())\n",
        "        \n",
        "        shift_right = input_list + np.ones(input_list.shape) * ctx.shift\n",
        "        shift_left = input_list - np.ones(input_list.shape) * ctx.shift\n",
        "        \n",
        "        gradients = []\n",
        "        for i in range(len(input_list)):\n",
        "            expectation_right = ctx.quantum_circuit.run(shift_right[i])\n",
        "            expectation_left  = ctx.quantum_circuit.run(shift_left[i])\n",
        "            \n",
        "            gradient = torch.tensor([expectation_right]) - torch.tensor([expectation_left])\n",
        "            gradients.append(gradient)\n",
        "        gradients = np.array([gradients]).T\n",
        "        return torch.tensor([gradients]).float() * grad_output.float(), None, None\n",
        "\n",
        "class Hybrid(nn.Module):\n",
        "    \"\"\" Hybrid quantum - classical layer definition \"\"\"\n",
        "    \n",
        "    def __init__(self, backend, shots, shift):\n",
        "        super(Hybrid, self).__init__()\n",
        "        self.quantum_circuit = QuantumCircuit(1, backend, shots)\n",
        "        self.shift = shift\n",
        "        \n",
        "    def forward(self, input):\n",
        "        #print('3',input)\n",
        "        return HybridFunction.apply(input, self.quantum_circuit, self.shift)"
      ]
    },
    {
      "cell_type": "code",
      "execution_count": 16,
      "id": "948bdcdc-1deb-4751-b8f2-f56e15d6c54d",
      "metadata": {
        "id": "948bdcdc-1deb-4751-b8f2-f56e15d6c54d"
      },
      "outputs": [],
      "source": [
        "class LagrangianNeuralNetwork(torch.nn.Module):\n",
        "    def __init__(self, D_in, hidden_list, D_out):\n",
        "        \"\"\"\n",
        "        Neural Network used to approximate a paramaterized system lagrangian\n",
        "        \"\"\"\n",
        "        super(LagrangianNeuralNetwork, self).__init__()\n",
        "        self.model_layers = torch.nn.ModuleList()\n",
        "\n",
        "        # input layer\n",
        "        self.model_layers.append(torch.nn.Linear(D_in, hidden_list[0]))\n",
        "        self.model_layers.append(torch.nn.Softplus())\n",
        "        # add all hiden layers\n",
        "        for i in range(1, len(hidden_list)):\n",
        "            self.model_layers.append(torch.nn.Linear(hidden_list[i-1], hidden_list[i]))\n",
        "            self.model_layers.append(torch.nn.Softplus())\n",
        "        \n",
        "        # output layer\n",
        "        self.model_layers.append(torch.nn.Linear(hidden_list[-1], D_out))\n",
        "        self.model_layers.append(torch.nn.Softplus())\n",
        "\n",
        "    def forward(self, x):\n",
        "        \"\"\"\n",
        "        applies all of the model layers, and returns the single output value,\n",
        "        which in this case is the lagrangian of the system, representing the\n",
        "        total energy\n",
        "        \"\"\"\n",
        "        for layer in self.model_layers:\n",
        "            x = layer(x)        \n",
        "        return x"
      ]
    },
    {
      "cell_type": "code",
      "execution_count": 17,
      "id": "f45d0c2a-d0fd-49b9-a691-135b285cd5da",
      "metadata": {
        "colab": {
          "base_uri": "https://localhost:8080/"
        },
        "id": "f45d0c2a-d0fd-49b9-a691-135b285cd5da",
        "outputId": "9e645b5d-5cc1-4d75-e771-d60e685290c0"
      },
      "outputs": [
        {
          "output_type": "stream",
          "name": "stdout",
          "text": [
            "--- Checking for CUDA Device... ---\n",
            "cpu\n"
          ]
        }
      ],
      "source": [
        "# determine device\n",
        "print(\"--- Checking for CUDA Device... ---\")\n",
        "use_cuda = torch.cuda.is_available()\n",
        "device = torch.device(\"cuda:0\" if use_cuda else \"cpu\")\n",
        "print(device)"
      ]
    },
    {
      "cell_type": "code",
      "execution_count": 18,
      "id": "27ecd2c5-40f2-4f6a-830b-829db4b5b8d3",
      "metadata": {
        "colab": {
          "base_uri": "https://localhost:8080/"
        },
        "id": "27ecd2c5-40f2-4f6a-830b-829db4b5b8d3",
        "outputId": "c27a85af-3959-45bd-976d-9a8fdf70d602"
      },
      "outputs": [
        {
          "output_type": "stream",
          "name": "stdout",
          "text": [
            "--- Constructing Model... ---\n"
          ]
        }
      ],
      "source": [
        "# organize data\n",
        "input_size = train_inputs.shape[1]\n",
        "output_size = 1  # for all lagrangian systems, output should be just a scalar energy value\n",
        "\n",
        "# build model\n",
        "print(\"--- Constructing Model... ---\")\n",
        "D_in = input_size  # state size\n",
        "# hidden_list = [D_in, 256, 256, 256, 256, 256]\n",
        "hidden_list = [D_in, 32, 64, 128, 256, 512, 256, 128, 64, 32]\n",
        "D_out = output_size\n",
        "lnn_model = LagrangianNeuralNetwork(D_in, hidden_list, D_out)\n",
        "#summary(lnn_model, (1, 28, 28), device='cpu')\n",
        "# set up training parameters\n",
        "learning_rate = 1e-4\n",
        "weight_decay = 1e-5\n",
        "momentum = 0.9\n",
        "num_epochs = 20\n",
        "optimizer = torch.optim.Adam(lnn_model.parameters(),\n",
        "                             lr=learning_rate,\n",
        "                             weight_decay=weight_decay)\n",
        "\n",
        "if os.path.isfile(\"model_weights.pth\"):\n",
        "    print(\"Re-loading existing weights!\")\n",
        "    checkpoint = torch.load(\"model_weights.pth\")\n",
        "    lnn_model.load_state_dict(checkpoint['model_state_dict'])\n",
        "    optimizer.load_state_dict(checkpoint['optimizer_state_dict'])"
      ]
    },
    {
      "cell_type": "code",
      "execution_count": 19,
      "id": "e0e2effd-2ba3-499f-8864-99e426633872",
      "metadata": {
        "colab": {
          "base_uri": "https://localhost:8080/"
        },
        "id": "e0e2effd-2ba3-499f-8864-99e426633872",
        "outputId": "f7a6e616-9f7f-442a-e286-43af7d097aa5"
      },
      "outputs": [
        {
          "output_type": "stream",
          "name": "stdout",
          "text": [
            "--- Beginning Training! ---\n"
          ]
        },
        {
          "output_type": "stream",
          "name": "stderr",
          "text": [
            "/usr/local/lib/python3.7/dist-packages/torch/cuda/amp/grad_scaler.py:115: UserWarning: torch.cuda.amp.GradScaler is enabled, but CUDA is not available.  Disabling.\n",
            "  warnings.warn(\"torch.cuda.amp.GradScaler is enabled, but CUDA is not available.  Disabling.\")\n",
            "./sample_data/dataloader.py:35: UserWarning: Creating a tensor from a list of numpy.ndarrays is extremely slow. Please consider converting the list to a single numpy.ndarray with numpy.array() before converting to a tensor. (Triggered internally at  ../torch/csrc/utils/tensor_new.cpp:201.)\n",
            "  batch_x = torch.as_tensor(batch_x)\n",
            "/usr/local/lib/python3.7/dist-packages/torch/autocast_mode.py:141: UserWarning: User provided device_type of 'cuda', but CUDA is not available. Disabling\n",
            "  warnings.warn('User provided device_type of \\'cuda\\', but CUDA is not available. Disabling')\n",
            "/usr/local/lib/python3.7/dist-packages/torch/nn/modules/loss.py:520: UserWarning: Using a target size (torch.Size([4])) that is different to the input size (torch.Size([1, 4])). This will likely lead to incorrect results due to broadcasting. Please ensure they have the same size.\n",
            "  return F.mse_loss(input, target, reduction=self.reduction)\n"
          ]
        },
        {
          "output_type": "stream",
          "name": "stdout",
          "text": [
            "Training [5%]\tLoss: 0.9506\n"
          ]
        },
        {
          "output_type": "stream",
          "name": "stderr",
          "text": [
            "./sample_data/dataloader.py:35: UserWarning: Creating a tensor from a list of numpy.ndarrays is extremely slow. Please consider converting the list to a single numpy.ndarray with numpy.array() before converting to a tensor. (Triggered internally at  ../torch/csrc/utils/tensor_new.cpp:201.)\n",
            "  batch_x = torch.as_tensor(batch_x)\n"
          ]
        },
        {
          "output_type": "stream",
          "name": "stdout",
          "text": [
            "Training [10%]\tLoss: 0.0107\n"
          ]
        },
        {
          "output_type": "stream",
          "name": "stderr",
          "text": [
            "./sample_data/dataloader.py:35: UserWarning: Creating a tensor from a list of numpy.ndarrays is extremely slow. Please consider converting the list to a single numpy.ndarray with numpy.array() before converting to a tensor. (Triggered internally at  ../torch/csrc/utils/tensor_new.cpp:201.)\n",
            "  batch_x = torch.as_tensor(batch_x)\n"
          ]
        },
        {
          "output_type": "stream",
          "name": "stdout",
          "text": [
            "Training [15%]\tLoss: 0.0101\n"
          ]
        },
        {
          "output_type": "stream",
          "name": "stderr",
          "text": [
            "./sample_data/dataloader.py:35: UserWarning: Creating a tensor from a list of numpy.ndarrays is extremely slow. Please consider converting the list to a single numpy.ndarray with numpy.array() before converting to a tensor. (Triggered internally at  ../torch/csrc/utils/tensor_new.cpp:201.)\n",
            "  batch_x = torch.as_tensor(batch_x)\n"
          ]
        },
        {
          "output_type": "stream",
          "name": "stdout",
          "text": [
            "Training [20%]\tLoss: 0.0098\n"
          ]
        },
        {
          "output_type": "stream",
          "name": "stderr",
          "text": [
            "./sample_data/dataloader.py:35: UserWarning: Creating a tensor from a list of numpy.ndarrays is extremely slow. Please consider converting the list to a single numpy.ndarray with numpy.array() before converting to a tensor. (Triggered internally at  ../torch/csrc/utils/tensor_new.cpp:201.)\n",
            "  batch_x = torch.as_tensor(batch_x)\n"
          ]
        },
        {
          "output_type": "stream",
          "name": "stdout",
          "text": [
            "Training [25%]\tLoss: 0.0094\n"
          ]
        },
        {
          "output_type": "stream",
          "name": "stderr",
          "text": [
            "./sample_data/dataloader.py:35: UserWarning: Creating a tensor from a list of numpy.ndarrays is extremely slow. Please consider converting the list to a single numpy.ndarray with numpy.array() before converting to a tensor. (Triggered internally at  ../torch/csrc/utils/tensor_new.cpp:201.)\n",
            "  batch_x = torch.as_tensor(batch_x)\n"
          ]
        },
        {
          "output_type": "stream",
          "name": "stdout",
          "text": [
            "Training [30%]\tLoss: 0.0100\n"
          ]
        },
        {
          "output_type": "stream",
          "name": "stderr",
          "text": [
            "./sample_data/dataloader.py:35: UserWarning: Creating a tensor from a list of numpy.ndarrays is extremely slow. Please consider converting the list to a single numpy.ndarray with numpy.array() before converting to a tensor. (Triggered internally at  ../torch/csrc/utils/tensor_new.cpp:201.)\n",
            "  batch_x = torch.as_tensor(batch_x)\n"
          ]
        },
        {
          "output_type": "stream",
          "name": "stdout",
          "text": [
            "Training [35%]\tLoss: 0.0105\n"
          ]
        },
        {
          "output_type": "stream",
          "name": "stderr",
          "text": [
            "./sample_data/dataloader.py:35: UserWarning: Creating a tensor from a list of numpy.ndarrays is extremely slow. Please consider converting the list to a single numpy.ndarray with numpy.array() before converting to a tensor. (Triggered internally at  ../torch/csrc/utils/tensor_new.cpp:201.)\n",
            "  batch_x = torch.as_tensor(batch_x)\n"
          ]
        },
        {
          "output_type": "stream",
          "name": "stdout",
          "text": [
            "Training [40%]\tLoss: 0.0100\n"
          ]
        },
        {
          "output_type": "stream",
          "name": "stderr",
          "text": [
            "./sample_data/dataloader.py:35: UserWarning: Creating a tensor from a list of numpy.ndarrays is extremely slow. Please consider converting the list to a single numpy.ndarray with numpy.array() before converting to a tensor. (Triggered internally at  ../torch/csrc/utils/tensor_new.cpp:201.)\n",
            "  batch_x = torch.as_tensor(batch_x)\n"
          ]
        },
        {
          "output_type": "stream",
          "name": "stdout",
          "text": [
            "Training [45%]\tLoss: 0.0102\n"
          ]
        },
        {
          "output_type": "stream",
          "name": "stderr",
          "text": [
            "./sample_data/dataloader.py:35: UserWarning: Creating a tensor from a list of numpy.ndarrays is extremely slow. Please consider converting the list to a single numpy.ndarray with numpy.array() before converting to a tensor. (Triggered internally at  ../torch/csrc/utils/tensor_new.cpp:201.)\n",
            "  batch_x = torch.as_tensor(batch_x)\n"
          ]
        },
        {
          "output_type": "stream",
          "name": "stdout",
          "text": [
            "Training [50%]\tLoss: 0.0099\n"
          ]
        },
        {
          "output_type": "stream",
          "name": "stderr",
          "text": [
            "./sample_data/dataloader.py:35: UserWarning: Creating a tensor from a list of numpy.ndarrays is extremely slow. Please consider converting the list to a single numpy.ndarray with numpy.array() before converting to a tensor. (Triggered internally at  ../torch/csrc/utils/tensor_new.cpp:201.)\n",
            "  batch_x = torch.as_tensor(batch_x)\n"
          ]
        },
        {
          "output_type": "stream",
          "name": "stdout",
          "text": [
            "Training [55%]\tLoss: 0.0095\n"
          ]
        },
        {
          "output_type": "stream",
          "name": "stderr",
          "text": [
            "./sample_data/dataloader.py:35: UserWarning: Creating a tensor from a list of numpy.ndarrays is extremely slow. Please consider converting the list to a single numpy.ndarray with numpy.array() before converting to a tensor. (Triggered internally at  ../torch/csrc/utils/tensor_new.cpp:201.)\n",
            "  batch_x = torch.as_tensor(batch_x)\n"
          ]
        },
        {
          "output_type": "stream",
          "name": "stdout",
          "text": [
            "Training [60%]\tLoss: 0.0099\n"
          ]
        },
        {
          "output_type": "stream",
          "name": "stderr",
          "text": [
            "./sample_data/dataloader.py:35: UserWarning: Creating a tensor from a list of numpy.ndarrays is extremely slow. Please consider converting the list to a single numpy.ndarray with numpy.array() before converting to a tensor. (Triggered internally at  ../torch/csrc/utils/tensor_new.cpp:201.)\n",
            "  batch_x = torch.as_tensor(batch_x)\n"
          ]
        },
        {
          "output_type": "stream",
          "name": "stdout",
          "text": [
            "Training [65%]\tLoss: 0.0098\n"
          ]
        },
        {
          "output_type": "stream",
          "name": "stderr",
          "text": [
            "./sample_data/dataloader.py:35: UserWarning: Creating a tensor from a list of numpy.ndarrays is extremely slow. Please consider converting the list to a single numpy.ndarray with numpy.array() before converting to a tensor. (Triggered internally at  ../torch/csrc/utils/tensor_new.cpp:201.)\n",
            "  batch_x = torch.as_tensor(batch_x)\n"
          ]
        },
        {
          "output_type": "stream",
          "name": "stdout",
          "text": [
            "Training [70%]\tLoss: 0.0090\n"
          ]
        },
        {
          "output_type": "stream",
          "name": "stderr",
          "text": [
            "./sample_data/dataloader.py:35: UserWarning: Creating a tensor from a list of numpy.ndarrays is extremely slow. Please consider converting the list to a single numpy.ndarray with numpy.array() before converting to a tensor. (Triggered internally at  ../torch/csrc/utils/tensor_new.cpp:201.)\n",
            "  batch_x = torch.as_tensor(batch_x)\n"
          ]
        },
        {
          "output_type": "stream",
          "name": "stdout",
          "text": [
            "Training [75%]\tLoss: 0.0094\n"
          ]
        },
        {
          "output_type": "stream",
          "name": "stderr",
          "text": [
            "./sample_data/dataloader.py:35: UserWarning: Creating a tensor from a list of numpy.ndarrays is extremely slow. Please consider converting the list to a single numpy.ndarray with numpy.array() before converting to a tensor. (Triggered internally at  ../torch/csrc/utils/tensor_new.cpp:201.)\n",
            "  batch_x = torch.as_tensor(batch_x)\n"
          ]
        },
        {
          "output_type": "stream",
          "name": "stdout",
          "text": [
            "Training [80%]\tLoss: 0.0090\n"
          ]
        },
        {
          "output_type": "stream",
          "name": "stderr",
          "text": [
            "./sample_data/dataloader.py:35: UserWarning: Creating a tensor from a list of numpy.ndarrays is extremely slow. Please consider converting the list to a single numpy.ndarray with numpy.array() before converting to a tensor. (Triggered internally at  ../torch/csrc/utils/tensor_new.cpp:201.)\n",
            "  batch_x = torch.as_tensor(batch_x)\n"
          ]
        },
        {
          "output_type": "stream",
          "name": "stdout",
          "text": [
            "Training [85%]\tLoss: 0.0091\n"
          ]
        },
        {
          "output_type": "stream",
          "name": "stderr",
          "text": [
            "./sample_data/dataloader.py:35: UserWarning: Creating a tensor from a list of numpy.ndarrays is extremely slow. Please consider converting the list to a single numpy.ndarray with numpy.array() before converting to a tensor. (Triggered internally at  ../torch/csrc/utils/tensor_new.cpp:201.)\n",
            "  batch_x = torch.as_tensor(batch_x)\n"
          ]
        },
        {
          "output_type": "stream",
          "name": "stdout",
          "text": [
            "Training [90%]\tLoss: 0.0088\n"
          ]
        },
        {
          "output_type": "stream",
          "name": "stderr",
          "text": [
            "./sample_data/dataloader.py:35: UserWarning: Creating a tensor from a list of numpy.ndarrays is extremely slow. Please consider converting the list to a single numpy.ndarray with numpy.array() before converting to a tensor. (Triggered internally at  ../torch/csrc/utils/tensor_new.cpp:201.)\n",
            "  batch_x = torch.as_tensor(batch_x)\n"
          ]
        },
        {
          "output_type": "stream",
          "name": "stdout",
          "text": [
            "Training [95%]\tLoss: 0.0087\n"
          ]
        },
        {
          "output_type": "stream",
          "name": "stderr",
          "text": [
            "./sample_data/dataloader.py:35: UserWarning: Creating a tensor from a list of numpy.ndarrays is extremely slow. Please consider converting the list to a single numpy.ndarray with numpy.array() before converting to a tensor. (Triggered internally at  ../torch/csrc/utils/tensor_new.cpp:201.)\n",
            "  batch_x = torch.as_tensor(batch_x)\n"
          ]
        },
        {
          "output_type": "stream",
          "name": "stdout",
          "text": [
            "Training [100%]\tLoss: 0.0086\n",
            "end\n"
          ]
        }
      ],
      "source": [
        "# ensure model is in train mode so gradients are properly calculated\n",
        "lnn_model.train()\n",
        "# load device to either GPU or CPU depending on hardware\n",
        "lnn_model.to(device)\n",
        "\n",
        "# set up loss function\n",
        "loss_fcn = torch.nn.MSELoss()\n",
        "\n",
        "# set up GradScaler to improve run speed\n",
        "scaler = torch.cuda.amp.GradScaler()\n",
        "\n",
        "print(\"--- Beginning Training! ---\")\n",
        "loss_list = []\n",
        "lnn_model.train()\n",
        "for epoch in range(num_epochs):\n",
        "    total_loss = []\n",
        "    for batch_idx, (data, target) in enumerate(train_dataloader):\n",
        "        data, target = data.to(device), target.to(device)\n",
        "        optimizer.zero_grad()\n",
        "        for p in lnn_model.parameters(): p.grad = None\n",
        "        \n",
        "        #Quantum layer for data encoding\n",
        "        backend = qiskit.Aer.get_backend('qasm_simulator')\n",
        "        num_qubit = 4\n",
        "        circ = QCircuit(num_qubit, backend, 100)\n",
        "        \n",
        "        #Encoding data and target\n",
        "        dataInput = torch.squeeze(torch.tensor(circ.run(data)))\n",
        "        targetData = torch.tensor(circ.run(target))\n",
        "        \n",
        "        with torch.cuda.amp.autocast():\n",
        "            target_pred = solve_euler_lagrange(lnn_model.forward, dataInput.float())            \n",
        "            loss = loss_fcn(target_pred.unsqueeze(0), targetData.float())\n",
        "            \n",
        "        # Backward pass\n",
        "        scaler.scale(loss).backward()\n",
        "        \n",
        "        # Optimize the weights\n",
        "        scaler.step(optimizer)\n",
        "        \n",
        "        # update the scale for next iteration\n",
        "        scaler.update()\n",
        "        \n",
        "        total_loss.append(loss.item())\n",
        "        \n",
        "    loss_list.append(sum(total_loss)/len(total_loss))\n",
        "    print('Training [{:.0f}%]\\tLoss: {:.4f}'.format(100. * (epoch + 1) / num_epochs, loss_list[-1]))\n",
        "\n",
        "print('end')"
      ]
    },
    {
      "cell_type": "code",
      "execution_count": 20,
      "id": "9e195214-e278-4278-8a2f-971133ccf007",
      "metadata": {
        "colab": {
          "base_uri": "https://localhost:8080/",
          "height": 312
        },
        "id": "9e195214-e278-4278-8a2f-971133ccf007",
        "outputId": "62330869-b537-4f92-c348-34a8c404b2df"
      },
      "outputs": [
        {
          "output_type": "execute_result",
          "data": {
            "text/plain": [
              "Text(0, 0.5, 'Loss')"
            ]
          },
          "metadata": {},
          "execution_count": 20
        },
        {
          "output_type": "display_data",
          "data": {
            "image/png": "[encoded data removed]",
            "text/plain": [
              "<Figure size 432x288 with 1 Axes>"
            ]
          },
          "metadata": {
            "needs_background": "light"
          }
        }
      ],
      "source": [
        "plt.plot(loss_list)\n",
        "plt.title('Hybrid LQDNN Quantum-Classical Training (Four qubit)')\n",
        "plt.xlabel('Training Iterations')\n",
        "plt.ylabel('Loss')"
      ]
    },
    {
      "cell_type": "code",
      "execution_count": 22,
      "id": "34d52598-f6eb-4292-9a02-e50b016d98a3",
      "metadata": {
        "colab": {
          "base_uri": "https://localhost:8080/"
        },
        "id": "34d52598-f6eb-4292-9a02-e50b016d98a3",
        "outputId": "52f4b1d2-46ba-4f6b-f04f-0c92bf8e6d46"
      },
      "outputs": [
        {
          "output_type": "stream",
          "name": "stdout",
          "text": [
            "--- Beginning Test! ---\n"
          ]
        },
        {
          "output_type": "stream",
          "name": "stderr",
          "text": [
            "./sample_data/dataloader.py:35: UserWarning: Creating a tensor from a list of numpy.ndarrays is extremely slow. Please consider converting the list to a single numpy.ndarray with numpy.array() before converting to a tensor. (Triggered internally at  ../torch/csrc/utils/tensor_new.cpp:201.)\n",
            "  batch_x = torch.as_tensor(batch_x)\n",
            "/usr/local/lib/python3.7/dist-packages/torch/autocast_mode.py:141: UserWarning: User provided device_type of 'cuda', but CUDA is not available. Disabling\n",
            "  warnings.warn('User provided device_type of \\'cuda\\', but CUDA is not available. Disabling')\n",
            "/usr/local/lib/python3.7/dist-packages/torch/nn/modules/loss.py:520: UserWarning: Using a target size (torch.Size([4])) that is different to the input size (torch.Size([1, 4])). This will likely lead to incorrect results due to broadcasting. Please ensure they have the same size.\n",
            "  return F.mse_loss(input, target, reduction=self.reduction)\n"
          ]
        },
        {
          "output_type": "stream",
          "name": "stdout",
          "text": [
            "Performance on test data:\tLoss: 0.0085\tAccuracy: 0.5%\n",
            "end\n"
          ]
        }
      ],
      "source": [
        "print(\"--- Beginning Test! ---\")\n",
        "lnn_model.eval()\n",
        "total_lossTestHybridQC = []\n",
        "correctTestQC = 0\n",
        "for batch_idx, (data, target) in enumerate(test_dataloader):\n",
        "    data, target = data.to(device), target.to(device)\n",
        "    \n",
        "    dataTest = torch.squeeze(torch.tensor(circ.run(data)))\n",
        "    targetTest = torch.tensor(circ.run(target))    \n",
        "    \n",
        "    with torch.cuda.amp.autocast():\n",
        "        target_pred = solve_euler_lagrange(lnn_model.forward, dataTest.float())\n",
        "        correctTestQC += target_pred.eq(targetTest.view_as(target_pred)).sum().item()\n",
        "        testLoss = loss_fcn(target_pred.unsqueeze(0), targetTest.float())       \n",
        "    total_lossTestHybridQC.append(testLoss.item())\n",
        "    \n",
        "batch_size = 1\n",
        "print('Performance on test data:\\tLoss: {:.4f}\\tAccuracy: {:.1f}%'.format(\n",
        "    sum(total_lossTestHybridQC) / len(total_lossTestHybridQC),\n",
        "    correctTestQC / len(test_dataloader) * 100 / batch_size)\n",
        "    )\n",
        "\n",
        "print('end')"
      ]
    },
    {
      "cell_type": "code",
      "execution_count": null,
      "id": "f85e0dca-203a-4981-8264-a27a4f370628",
      "metadata": {
        "id": "f85e0dca-203a-4981-8264-a27a4f370628"
      },
      "outputs": [],
      "source": [
        ""
      ]
    }
  ],
  "metadata": {
    "kernelspec": {
      "display_name": "Qiskit v0.32.1 (ipykernel)",
      "language": "python",
      "name": "python3"
    },
    "language_info": {
      "codemirror_mode": {
        "name": "ipython",
        "version": 3
      },
      "file_extension": ".py",
      "mimetype": "text/x-python",
      "name": "python",
      "nbconvert_exporter": "python",
      "pygments_lexer": "ipython3",
      "version": "3.8.10"
    },
    "colab": {
      "name": "MultipleQubit_QC.ipynb",
      "provenance": [],
      "collapsed_sections": []
    }
  },
  "nbformat": 4,
  "nbformat_minor": 5
}