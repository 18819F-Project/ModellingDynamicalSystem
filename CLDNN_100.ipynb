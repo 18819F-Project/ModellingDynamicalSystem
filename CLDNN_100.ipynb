{
  "nbformat": 4,
  "nbformat_minor": 5,
  "metadata": {
    "kernelspec": {
      "display_name": "Qiskit v0.32.0 (ipykernel)",
      "language": "python",
      "name": "python3"
    },
    "language_info": {
      "codemirror_mode": {
        "name": "ipython",
        "version": 3
      },
      "file_extension": ".py",
      "mimetype": "text/x-python",
      "name": "python",
      "nbconvert_exporter": "python",
      "pygments_lexer": "ipython3",
      "version": "3.8.10"
    },
    "colab": {
      "name": "CLDNN.ipynb",
      "provenance": [],
      "collapsed_sections": []
    }
  },
  "cells": [
    {
      "cell_type": "markdown",
      "metadata": {
        "id": "6K1TuRAFKz_4"
      },
      "source": [
        "Double pendulum motion simulation : Classical Lagrangian Deep Neural network"
      ],
      "id": "6K1TuRAFKz_4"
    },
    {
      "cell_type": "code",
      "metadata": {
        "id": "QUFKj87TGrzs"
      },
      "source": [
        "from __future__ import print_function\n",
        "\n",
        "import os\n",
        "import sys\n",
        "sys.path.append(\"./sample_data\")\n",
        "#sys.path.append(\"./model\")\n",
        "#sys.path.append(\"./dynamics\")\n",
        "\n",
        "from visualize import *\n",
        "from ode_solver import *\n",
        "from network import *\n",
        "from dataloader import *\n",
        "from lagrangian import *\n",
        "\n",
        "\n",
        "import numpy as np\n",
        "import torch\n",
        "import torch.utils.data"
      ],
      "id": "QUFKj87TGrzs",
      "execution_count": 2,
      "outputs": []
    },
    {
      "cell_type": "code",
      "metadata": {
        "colab": {
          "base_uri": "https://localhost:8080/"
        },
        "id": "4bybbimxGsA2",
        "outputId": "6a01dc31-f797-46b1-b92e-c0f145587325"
      },
      "source": [
        "print(\"--- Loading training and test data... ---\")\n",
        "train_data = np.load('/content/sample_data/train_dataset.npz')\n",
        "train_inputs = train_data[\"input\"]\n",
        "train_labels = train_data[\"labels\"]\n",
        "X_train = train_inputs[:100]\n",
        "y_train = train_labels[:100]\n",
        "\n",
        "#train_dataset = DynamicsDataset(train_inputs, train_labels)\n",
        "train_dataset = DynamicsDataset(X_train, y_train)\n",
        "\n",
        "train_dataloader = torch.utils.data.DataLoader(train_dataset,\n",
        "                                                 batch_size=1,\n",
        "                                                 shuffle=True,\n",
        "                                                 collate_fn=DynamicsDataset.collate_fn,\n",
        "                                                 pin_memory=True,\n",
        "                                                 num_workers=1)\n",
        "\n",
        "\n",
        "test_data = np.load('/content/sample_data/val_dataset.npz')\n",
        "test_inputs = train_data[\"input\"]\n",
        "test_labels = train_data[\"labels\"]\n",
        "#test_dataset = DynamicsDataset(test_inputs, test_labels)\n",
        "X_test = test_inputs[:100]\n",
        "y_test = test_labels[:100]\n",
        "\n",
        "test_dataset = DynamicsDataset(X_test, y_test)\n",
        "\n",
        "test_dataloader = torch.utils.data.DataLoader(test_dataset,\n",
        "                                                 batch_size=1,\n",
        "                                                 shuffle=False,\n",
        "                                                 collate_fn=DynamicsDataset.collate_fn,\n",
        "                                                 pin_memory=True,\n",
        "                                                 num_workers=1)\n",
        "print(\"--- Loading training and test data completed ---\")"
      ],
      "id": "4bybbimxGsA2",
      "execution_count": 5,
      "outputs": [
        {
          "output_type": "stream",
          "name": "stdout",
          "text": [
            "--- Loading training and test data... ---\n",
            "--- Loading training and test data completed ---\n"
          ]
        }
      ]
    },
    {
      "cell_type": "code",
      "metadata": {
        "colab": {
          "base_uri": "https://localhost:8080/"
        },
        "id": "1Q7STzpfKWc0",
        "outputId": "a2f83fe8-e24f-4a07-af61-32278b32f046"
      },
      "source": [
        "for (X_train, y_train) in train_dataloader:\n",
        "    print('X_train:', X_train.size(), 'type:', X_train.type())\n",
        "    print('y_train:', y_train.size(), 'type:', y_train.type())\n",
        "    print('X_train:', X_train)\n",
        "    print('y_train:', y_train)\n",
        "    break\n",
        "\n",
        "for (X_test, y_test) in test_dataloader:\n",
        "    print('X_test:', X_test.size(), 'type:', X_test.type())\n",
        "    print('y_test:', y_test.size(), 'type:', y_test.type())\n",
        "    print('X_test:', X_test)\n",
        "    print('y_test:', y_test)\n",
        "    break"
      ],
      "id": "1Q7STzpfKWc0",
      "execution_count": 6,
      "outputs": [
        {
          "output_type": "stream",
          "name": "stderr",
          "text": [
            "./sample_data/dataloader.py:35: UserWarning: Creating a tensor from a list of numpy.ndarrays is extremely slow. Please consider converting the list to a single numpy.ndarray with numpy.array() before converting to a tensor. (Triggered internally at  ../torch/csrc/utils/tensor_new.cpp:201.)\n",
            "  batch_x = torch.as_tensor(batch_x)\n"
          ]
        },
        {
          "output_type": "stream",
          "name": "stdout",
          "text": [
            "X_train: torch.Size([1, 4]) type: torch.DoubleTensor\n",
            "y_train: torch.Size([1, 4]) type: torch.DoubleTensor\n",
            "X_train: tensor([[ 2.4841,  1.1141, -0.1981,  0.2497]], dtype=torch.float64)\n",
            "y_train: tensor([[-0.1981,  0.2497, -5.2559, -7.7180]], dtype=torch.float64)\n"
          ]
        },
        {
          "output_type": "stream",
          "name": "stderr",
          "text": [
            "./sample_data/dataloader.py:35: UserWarning: Creating a tensor from a list of numpy.ndarrays is extremely slow. Please consider converting the list to a single numpy.ndarray with numpy.array() before converting to a tensor. (Triggered internally at  ../torch/csrc/utils/tensor_new.cpp:201.)\n",
            "  batch_x = torch.as_tensor(batch_x)\n"
          ]
        },
        {
          "output_type": "stream",
          "name": "stdout",
          "text": [
            "X_test: torch.Size([1, 4]) type: torch.DoubleTensor\n",
            "y_test: torch.Size([1, 4]) type: torch.DoubleTensor\n",
            "X_test: tensor([[ 1.9537,  0.2797, -0.0780, -0.2268]], dtype=torch.float64)\n",
            "y_test: tensor([[-0.0780, -0.2268, -9.3138, -3.6618]], dtype=torch.float64)\n"
          ]
        }
      ]
    },
    {
      "cell_type": "code",
      "metadata": {
        "colab": {
          "base_uri": "https://localhost:8080/"
        },
        "id": "rhInyHouGsDN",
        "outputId": "cd4917e9-4c41-49d4-e606-229bd2b7f10b"
      },
      "source": [
        "# organize data\n",
        "input_size = train_inputs.shape[1]\n",
        "output_size = 1  # for all lagrangian systems, output should be just a scalar energy value\n",
        "\n",
        "# build model\n",
        "print(\"--- Constructing Model... ---\")\n",
        "D_in = input_size  # state size\n",
        "# hidden_list = [D_in, 256, 256, 256, 256, 256]\n",
        "hidden_list = [D_in, 32, 64, 128, 256, 512, 256, 128, 64, 32]\n",
        "D_out = output_size\n",
        "lnn_model = LagrangianNeuralNetwork(D_in, hidden_list, D_out)\n",
        "\n",
        "\n",
        "# set up training parameters\n",
        "learning_rate = 1e-4\n",
        "weight_decay = 1e-5\n",
        "momentum = 0.9\n",
        "num_epochs = 20\n",
        "optimizer = torch.optim.Adam(lnn_model.parameters(),\n",
        "                              lr=learning_rate,\n",
        "                              weight_decay=weight_decay)\n",
        "\n",
        "if os.path.isfile(\"model_weights.pth\"):\n",
        "    print(\"Re-loading existing weights!\")\n",
        "    checkpoint = torch.load(\"model_weights.pth\")\n",
        "    lnn_model.load_state_dict(checkpoint['model_state_dict'])\n",
        "    optimizer.load_state_dict(checkpoint['optimizer_state_dict'])"
      ],
      "id": "rhInyHouGsDN",
      "execution_count": 8,
      "outputs": [
        {
          "output_type": "stream",
          "name": "stdout",
          "text": [
            "--- Constructing Model... ---\n"
          ]
        }
      ]
    },
    {
      "cell_type": "code",
      "metadata": {
        "colab": {
          "base_uri": "https://localhost:8080/"
        },
        "id": "3s3yQt8bNWuB",
        "outputId": "cc4a5698-f6ca-4a4b-af0b-7b34f9a0c48b"
      },
      "source": [
        "# determine device\n",
        "print(\"--- Checking for CUDA Device... ---\")\n",
        "use_cuda = torch.cuda.is_available()\n",
        "device = torch.device(\"cuda:0\" if use_cuda else \"cpu\")"
      ],
      "id": "3s3yQt8bNWuB",
      "execution_count": 10,
      "outputs": [
        {
          "output_type": "stream",
          "name": "stdout",
          "text": [
            "--- Checking for CUDA Device... ---\n"
          ]
        }
      ]
    },
    {
      "cell_type": "code",
      "metadata": {
        "colab": {
          "base_uri": "https://localhost:8080/"
        },
        "id": "ZzmI-GABGsHR",
        "outputId": "6340d735-e6e1-4b1c-8bea-86d0f5f9c830"
      },
      "source": [
        "import time\n",
        "# ensure model is in train mode so gradients are properly calculated\n",
        "lnn_model.train()\n",
        "# load device to either GPU or CPU depending on hardware\n",
        "lnn_model.to(device)\n",
        "\n",
        "# set up loss function\n",
        "loss_fcn = torch.nn.MSELoss()\n",
        "\n",
        "# set up GradScaler to improve run speed\n",
        "scaler = torch.cuda.amp.GradScaler()\n",
        "\n",
        "print(\"--- Beginning Training! ---\")\n",
        "loss_list = []\n",
        "startTimeC = time.time()\n",
        "print('Training Start Time (in sec) : ',(startTimeC))\n",
        "print('Training Start Time : ',(time.asctime( time.localtime(time.time()) )))\n",
        "for epoch in range(num_epochs):\n",
        "    total_loss = []\n",
        "    lnn_model.train()\n",
        "    average_training_loss = 0\n",
        "\n",
        "    print(\"Epoch #\", epoch)\n",
        "\n",
        "    for batch_idx, (x, y) in enumerate(train_dataloader):\n",
        "        x, y = x.to(device), y.to(device)\n",
        "\n",
        "        optimizer.zero_grad()\n",
        "        for p in lnn_model.parameters(): p.grad = None\n",
        "\n",
        "        # output from model is the energy calculated from the parameterized lagrangian\n",
        "        x = torch.squeeze(x)\n",
        "        with torch.cuda.amp.autocast():\n",
        "            y_pred = solve_euler_lagrange(lnn_model.forward, x.float())\n",
        "            loss = loss_fcn(y_pred.unsqueeze(0), y.float())\n",
        "\n",
        "        # perform backwards pass\n",
        "        scaler.scale(loss).backward()\n",
        "\n",
        "        # run optimization step based on backwards pass\n",
        "        scaler.step(optimizer)\n",
        "\n",
        "        # update the scale for next iteration\n",
        "        scaler.update()\n",
        "\n",
        "        '''\n",
        "        if batch_idx % 100 == 0:\n",
        "            print(\"Iter Num: \", batch_idx)\n",
        "            print(\"\\t\", loss)\n",
        "        if batch_idx % 5000 == 0:\n",
        "            print(\"--- Saving weights ---\")\n",
        "            # save weights after each epoch\n",
        "            torch.save({\n",
        "                'epoch': epoch,\n",
        "                'model_state_dict': lnn_model.state_dict(),\n",
        "                'optimizer_state_dict': optimizer.state_dict(),\n",
        "            }, \"model_weights.pth\")\n",
        "        '''\n",
        "        total_loss.append(loss.item())\n",
        "    loss_list.append(sum(total_loss)/len(total_loss))\n",
        "    print('Training [{:.0f}%]\\tLoss: {:.4f}'.format(\n",
        "        100. * (epoch + 1) / num_epochs, loss_list[-1]))\n",
        "print('Training End Time (in sec) : ',(time.time()))\n",
        "print('Total training time (in sec)',((time.time() - startTimeC)))\n",
        "print('Training End Time',(time.asctime( time.localtime(time.time()) )))\n",
        "print('end')"
      ],
      "id": "ZzmI-GABGsHR",
      "execution_count": 33,
      "outputs": [
        {
          "output_type": "stream",
          "name": "stdout",
          "text": [
            "--- Beginning Training! ---\n",
            "Training Start Time (in sec) :  1638403732.4544775\n",
            "Training Start Time :  Thu Dec  2 00:08:52 2021\n",
            "Epoch # 0\n"
          ]
        },
        {
          "output_type": "stream",
          "name": "stderr",
          "text": [
            "/usr/local/lib/python3.7/dist-packages/torch/cuda/amp/grad_scaler.py:115: UserWarning: torch.cuda.amp.GradScaler is enabled, but CUDA is not available.  Disabling.\n",
            "  warnings.warn(\"torch.cuda.amp.GradScaler is enabled, but CUDA is not available.  Disabling.\")\n",
            "./sample_data/dataloader.py:35: UserWarning: Creating a tensor from a list of numpy.ndarrays is extremely slow. Please consider converting the list to a single numpy.ndarray with numpy.array() before converting to a tensor. (Triggered internally at  ../torch/csrc/utils/tensor_new.cpp:201.)\n",
            "  batch_x = torch.as_tensor(batch_x)\n",
            "/usr/local/lib/python3.7/dist-packages/torch/autocast_mode.py:141: UserWarning: User provided device_type of 'cuda', but CUDA is not available. Disabling\n",
            "  warnings.warn('User provided device_type of \\'cuda\\', but CUDA is not available. Disabling')\n"
          ]
        },
        {
          "output_type": "stream",
          "name": "stdout",
          "text": [
            "Training [5%]\tLoss: 14.4150\n",
            "Epoch # 1\n"
          ]
        },
        {
          "output_type": "stream",
          "name": "stderr",
          "text": [
            "./sample_data/dataloader.py:35: UserWarning: Creating a tensor from a list of numpy.ndarrays is extremely slow. Please consider converting the list to a single numpy.ndarray with numpy.array() before converting to a tensor. (Triggered internally at  ../torch/csrc/utils/tensor_new.cpp:201.)\n",
            "  batch_x = torch.as_tensor(batch_x)\n"
          ]
        },
        {
          "output_type": "stream",
          "name": "stdout",
          "text": [
            "Training [10%]\tLoss: 14.1706\n",
            "Epoch # 2\n"
          ]
        },
        {
          "output_type": "stream",
          "name": "stderr",
          "text": [
            "./sample_data/dataloader.py:35: UserWarning: Creating a tensor from a list of numpy.ndarrays is extremely slow. Please consider converting the list to a single numpy.ndarray with numpy.array() before converting to a tensor. (Triggered internally at  ../torch/csrc/utils/tensor_new.cpp:201.)\n",
            "  batch_x = torch.as_tensor(batch_x)\n"
          ]
        },
        {
          "output_type": "stream",
          "name": "stdout",
          "text": [
            "Training [15%]\tLoss: 14.0317\n",
            "Epoch # 3\n"
          ]
        },
        {
          "output_type": "stream",
          "name": "stderr",
          "text": [
            "./sample_data/dataloader.py:35: UserWarning: Creating a tensor from a list of numpy.ndarrays is extremely slow. Please consider converting the list to a single numpy.ndarray with numpy.array() before converting to a tensor. (Triggered internally at  ../torch/csrc/utils/tensor_new.cpp:201.)\n",
            "  batch_x = torch.as_tensor(batch_x)\n"
          ]
        },
        {
          "output_type": "stream",
          "name": "stdout",
          "text": [
            "Training [20%]\tLoss: 14.0986\n",
            "Epoch # 4\n"
          ]
        },
        {
          "output_type": "stream",
          "name": "stderr",
          "text": [
            "./sample_data/dataloader.py:35: UserWarning: Creating a tensor from a list of numpy.ndarrays is extremely slow. Please consider converting the list to a single numpy.ndarray with numpy.array() before converting to a tensor. (Triggered internally at  ../torch/csrc/utils/tensor_new.cpp:201.)\n",
            "  batch_x = torch.as_tensor(batch_x)\n"
          ]
        },
        {
          "output_type": "stream",
          "name": "stdout",
          "text": [
            "Training [25%]\tLoss: 14.0605\n",
            "Epoch # 5\n"
          ]
        },
        {
          "output_type": "stream",
          "name": "stderr",
          "text": [
            "./sample_data/dataloader.py:35: UserWarning: Creating a tensor from a list of numpy.ndarrays is extremely slow. Please consider converting the list to a single numpy.ndarray with numpy.array() before converting to a tensor. (Triggered internally at  ../torch/csrc/utils/tensor_new.cpp:201.)\n",
            "  batch_x = torch.as_tensor(batch_x)\n"
          ]
        },
        {
          "output_type": "stream",
          "name": "stdout",
          "text": [
            "Training [30%]\tLoss: 13.9103\n",
            "Epoch # 6\n"
          ]
        },
        {
          "output_type": "stream",
          "name": "stderr",
          "text": [
            "./sample_data/dataloader.py:35: UserWarning: Creating a tensor from a list of numpy.ndarrays is extremely slow. Please consider converting the list to a single numpy.ndarray with numpy.array() before converting to a tensor. (Triggered internally at  ../torch/csrc/utils/tensor_new.cpp:201.)\n",
            "  batch_x = torch.as_tensor(batch_x)\n"
          ]
        },
        {
          "output_type": "stream",
          "name": "stdout",
          "text": [
            "Training [35%]\tLoss: 13.9659\n",
            "Epoch # 7\n"
          ]
        },
        {
          "output_type": "stream",
          "name": "stderr",
          "text": [
            "./sample_data/dataloader.py:35: UserWarning: Creating a tensor from a list of numpy.ndarrays is extremely slow. Please consider converting the list to a single numpy.ndarray with numpy.array() before converting to a tensor. (Triggered internally at  ../torch/csrc/utils/tensor_new.cpp:201.)\n",
            "  batch_x = torch.as_tensor(batch_x)\n"
          ]
        },
        {
          "output_type": "stream",
          "name": "stdout",
          "text": [
            "Training [40%]\tLoss: 14.0196\n",
            "Epoch # 8\n"
          ]
        },
        {
          "output_type": "stream",
          "name": "stderr",
          "text": [
            "./sample_data/dataloader.py:35: UserWarning: Creating a tensor from a list of numpy.ndarrays is extremely slow. Please consider converting the list to a single numpy.ndarray with numpy.array() before converting to a tensor. (Triggered internally at  ../torch/csrc/utils/tensor_new.cpp:201.)\n",
            "  batch_x = torch.as_tensor(batch_x)\n"
          ]
        },
        {
          "output_type": "stream",
          "name": "stdout",
          "text": [
            "Training [45%]\tLoss: 14.0264\n",
            "Epoch # 9\n"
          ]
        },
        {
          "output_type": "stream",
          "name": "stderr",
          "text": [
            "./sample_data/dataloader.py:35: UserWarning: Creating a tensor from a list of numpy.ndarrays is extremely slow. Please consider converting the list to a single numpy.ndarray with numpy.array() before converting to a tensor. (Triggered internally at  ../torch/csrc/utils/tensor_new.cpp:201.)\n",
            "  batch_x = torch.as_tensor(batch_x)\n"
          ]
        },
        {
          "output_type": "stream",
          "name": "stdout",
          "text": [
            "Training [50%]\tLoss: 13.7185\n",
            "Epoch # 10\n"
          ]
        },
        {
          "output_type": "stream",
          "name": "stderr",
          "text": [
            "./sample_data/dataloader.py:35: UserWarning: Creating a tensor from a list of numpy.ndarrays is extremely slow. Please consider converting the list to a single numpy.ndarray with numpy.array() before converting to a tensor. (Triggered internally at  ../torch/csrc/utils/tensor_new.cpp:201.)\n",
            "  batch_x = torch.as_tensor(batch_x)\n"
          ]
        },
        {
          "output_type": "stream",
          "name": "stdout",
          "text": [
            "Training [55%]\tLoss: 13.5322\n",
            "Epoch # 11\n"
          ]
        },
        {
          "output_type": "stream",
          "name": "stderr",
          "text": [
            "./sample_data/dataloader.py:35: UserWarning: Creating a tensor from a list of numpy.ndarrays is extremely slow. Please consider converting the list to a single numpy.ndarray with numpy.array() before converting to a tensor. (Triggered internally at  ../torch/csrc/utils/tensor_new.cpp:201.)\n",
            "  batch_x = torch.as_tensor(batch_x)\n"
          ]
        },
        {
          "output_type": "stream",
          "name": "stdout",
          "text": [
            "Training [60%]\tLoss: 13.9324\n",
            "Epoch # 12\n"
          ]
        },
        {
          "output_type": "stream",
          "name": "stderr",
          "text": [
            "./sample_data/dataloader.py:35: UserWarning: Creating a tensor from a list of numpy.ndarrays is extremely slow. Please consider converting the list to a single numpy.ndarray with numpy.array() before converting to a tensor. (Triggered internally at  ../torch/csrc/utils/tensor_new.cpp:201.)\n",
            "  batch_x = torch.as_tensor(batch_x)\n"
          ]
        },
        {
          "output_type": "stream",
          "name": "stdout",
          "text": [
            "Training [65%]\tLoss: 13.5029\n",
            "Epoch # 13\n"
          ]
        },
        {
          "output_type": "stream",
          "name": "stderr",
          "text": [
            "./sample_data/dataloader.py:35: UserWarning: Creating a tensor from a list of numpy.ndarrays is extremely slow. Please consider converting the list to a single numpy.ndarray with numpy.array() before converting to a tensor. (Triggered internally at  ../torch/csrc/utils/tensor_new.cpp:201.)\n",
            "  batch_x = torch.as_tensor(batch_x)\n"
          ]
        },
        {
          "output_type": "stream",
          "name": "stdout",
          "text": [
            "Training [70%]\tLoss: 13.5949\n",
            "Epoch # 14\n"
          ]
        },
        {
          "output_type": "stream",
          "name": "stderr",
          "text": [
            "./sample_data/dataloader.py:35: UserWarning: Creating a tensor from a list of numpy.ndarrays is extremely slow. Please consider converting the list to a single numpy.ndarray with numpy.array() before converting to a tensor. (Triggered internally at  ../torch/csrc/utils/tensor_new.cpp:201.)\n",
            "  batch_x = torch.as_tensor(batch_x)\n"
          ]
        },
        {
          "output_type": "stream",
          "name": "stdout",
          "text": [
            "Training [75%]\tLoss: 13.8084\n",
            "Epoch # 15\n"
          ]
        },
        {
          "output_type": "stream",
          "name": "stderr",
          "text": [
            "./sample_data/dataloader.py:35: UserWarning: Creating a tensor from a list of numpy.ndarrays is extremely slow. Please consider converting the list to a single numpy.ndarray with numpy.array() before converting to a tensor. (Triggered internally at  ../torch/csrc/utils/tensor_new.cpp:201.)\n",
            "  batch_x = torch.as_tensor(batch_x)\n"
          ]
        },
        {
          "output_type": "stream",
          "name": "stdout",
          "text": [
            "Training [80%]\tLoss: 13.0796\n",
            "Epoch # 16\n"
          ]
        },
        {
          "output_type": "stream",
          "name": "stderr",
          "text": [
            "./sample_data/dataloader.py:35: UserWarning: Creating a tensor from a list of numpy.ndarrays is extremely slow. Please consider converting the list to a single numpy.ndarray with numpy.array() before converting to a tensor. (Triggered internally at  ../torch/csrc/utils/tensor_new.cpp:201.)\n",
            "  batch_x = torch.as_tensor(batch_x)\n"
          ]
        },
        {
          "output_type": "stream",
          "name": "stdout",
          "text": [
            "Training [85%]\tLoss: 13.3079\n",
            "Epoch # 17\n"
          ]
        },
        {
          "output_type": "stream",
          "name": "stderr",
          "text": [
            "./sample_data/dataloader.py:35: UserWarning: Creating a tensor from a list of numpy.ndarrays is extremely slow. Please consider converting the list to a single numpy.ndarray with numpy.array() before converting to a tensor. (Triggered internally at  ../torch/csrc/utils/tensor_new.cpp:201.)\n",
            "  batch_x = torch.as_tensor(batch_x)\n"
          ]
        },
        {
          "output_type": "stream",
          "name": "stdout",
          "text": [
            "Training [90%]\tLoss: 13.1323\n",
            "Epoch # 18\n"
          ]
        },
        {
          "output_type": "stream",
          "name": "stderr",
          "text": [
            "./sample_data/dataloader.py:35: UserWarning: Creating a tensor from a list of numpy.ndarrays is extremely slow. Please consider converting the list to a single numpy.ndarray with numpy.array() before converting to a tensor. (Triggered internally at  ../torch/csrc/utils/tensor_new.cpp:201.)\n",
            "  batch_x = torch.as_tensor(batch_x)\n"
          ]
        },
        {
          "output_type": "stream",
          "name": "stdout",
          "text": [
            "Training [95%]\tLoss: 13.2479\n",
            "Epoch # 19\n"
          ]
        },
        {
          "output_type": "stream",
          "name": "stderr",
          "text": [
            "./sample_data/dataloader.py:35: UserWarning: Creating a tensor from a list of numpy.ndarrays is extremely slow. Please consider converting the list to a single numpy.ndarray with numpy.array() before converting to a tensor. (Triggered internally at  ../torch/csrc/utils/tensor_new.cpp:201.)\n",
            "  batch_x = torch.as_tensor(batch_x)\n"
          ]
        },
        {
          "output_type": "stream",
          "name": "stdout",
          "text": [
            "Training [100%]\tLoss: 13.4365\n",
            "Training End Time (in sec) :  1638403858.960455\n",
            "Total training time (in sec) 126.50682210922241\n",
            "Training End Time Thu Dec  2 00:10:58 2021\n",
            "end\n"
          ]
        }
      ]
    },
    {
      "cell_type": "code",
      "metadata": {
        "colab": {
          "base_uri": "https://localhost:8080/",
          "height": 312
        },
        "id": "0De5hZ7pKgiq",
        "outputId": "6204721a-c070-404d-b263-3e56044fe6ea"
      },
      "source": [
        "import matplotlib.pyplot as plt\n",
        "plt.plot(loss_list)\n",
        "plt.title('Classical LQNN Training')\n",
        "plt.xlabel('Training Iterations')\n",
        "plt.ylabel('Loss')"
      ],
      "id": "0De5hZ7pKgiq",
      "execution_count": 34,
      "outputs": [
        {
          "output_type": "execute_result",
          "data": {
            "text/plain": [
              "Text(0, 0.5, 'Loss')"
            ]
          },
          "metadata": {},
          "execution_count": 34
        },
        {
          "output_type": "display_data",
          "data": {
            "image/png": "[encoded data removed]",
            "text/plain": [
              "<Figure size 432x288 with 1 Axes>"
            ]
          },
          "metadata": {
            "needs_background": "light"
          }
        }
      ]
    },
    {
      "cell_type": "code",
      "metadata": {
        "colab": {
          "base_uri": "https://localhost:8080/"
        },
        "id": "daNcD1xXGsLg",
        "outputId": "f4a1750a-f851-4889-939f-51c5558f9e91"
      },
      "source": [
        "print(\"--- Beginning Test! ---\")\n",
        "loss_list = []\n",
        "lnn_model.eval()\n",
        "total_loss = []\n",
        "correct = 0\n",
        "for batch_idx, (data, target) in enumerate(test_dataloader):\n",
        "    data, target = data.to(device), target.to(device)\n",
        "    data = torch.squeeze(data)\n",
        "    with torch.cuda.amp.autocast():\n",
        "        target_pred = solve_euler_lagrange(lnn_model.forward, data.float())\n",
        "        #print(target_pred)\n",
        "        #print(target)\n",
        "        correct += target_pred.eq(target.view_as(target_pred)).sum().item()\n",
        "        loss = loss_fcn(target_pred.unsqueeze(0), target.float())        \n",
        "    total_loss.append(loss.item())\n",
        "batch_size = 1\n",
        "print('Performance on test data:[{:.0f}%]\\tLoss: {:.4f}\\tAccuracy: {:.1f}%'.format(\n",
        "    100. * (epoch + 1) / num_epochs,\n",
        "    sum(total_loss) / len(total_loss),\n",
        "    correct / len(test_dataloader) * 100 / batch_size)\n",
        "    )\n",
        "\n",
        "print('end')"
      ],
      "id": "daNcD1xXGsLg",
      "execution_count": 35,
      "outputs": [
        {
          "output_type": "stream",
          "name": "stdout",
          "text": [
            "--- Beginning Test! ---\n"
          ]
        },
        {
          "output_type": "stream",
          "name": "stderr",
          "text": [
            "./sample_data/dataloader.py:35: UserWarning: Creating a tensor from a list of numpy.ndarrays is extremely slow. Please consider converting the list to a single numpy.ndarray with numpy.array() before converting to a tensor. (Triggered internally at  ../torch/csrc/utils/tensor_new.cpp:201.)\n",
            "  batch_x = torch.as_tensor(batch_x)\n",
            "/usr/local/lib/python3.7/dist-packages/torch/autocast_mode.py:141: UserWarning: User provided device_type of 'cuda', but CUDA is not available. Disabling\n",
            "  warnings.warn('User provided device_type of \\'cuda\\', but CUDA is not available. Disabling')\n"
          ]
        },
        {
          "output_type": "stream",
          "name": "stdout",
          "text": [
            "Performance on test data:[100%]\tLoss: 12.8107\tAccuracy: 0.0%\n",
            "end\n"
          ]
        }
      ]
    },
    {
      "cell_type": "code",
      "metadata": {
        "id": "S1xquYjQGsOf"
      },
      "source": [
        ""
      ],
      "id": "S1xquYjQGsOf",
      "execution_count": null,
      "outputs": []
    }
  ]
}