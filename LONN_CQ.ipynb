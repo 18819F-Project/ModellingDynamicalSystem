{
 "cells": [
  {
   "cell_type": "code",
   "execution_count": 1,
   "id": "4b641b47-223d-4c7b-83da-22fafeb1ce30",
   "metadata": {},
   "outputs": [],
   "source": [
    "#from IPython.core.debugger import set_trace\n",
    "import numpy as np\n",
    "\n",
    "# Importing standard Qiskit libraries\n",
    "from qiskit import QuantumCircuit, transpile, Aer, IBMQ\n",
    "from qiskit.tools.jupyter import *\n",
    "from qiskit.visualization import *\n",
    "from ibm_quantum_widgets import *\n",
    "from qiskit.providers.aer import QasmSimulator\n",
    "\n",
    "# Loading your IBM Quantum account(s)\n",
    "provider = IBMQ.load_account()"
   ]
  },
  {
   "cell_type": "code",
   "execution_count": 2,
   "id": "06531ccd-1b9f-4f08-8c98-d0cc9315f3f1",
   "metadata": {},
   "outputs": [],
   "source": [
    "#Custom library\n",
    "from __future__ import print_function\n",
    "\n",
    "import os\n",
    "import sys\n",
    "sys.path.append(\"../Qiskit_Dynamic_Modelling\")\n",
    "sys.path.append(\"./modelQ\")\n",
    "sys.path.append(\"./dynamicsQ\")\n",
    "\n",
    "from visualize import *\n",
    "from ode_solver import *\n",
    "#from network import *\n",
    "from dataloader import *\n",
    "from lagrangian import *\n",
    "\n",
    "import matplotlib.pyplot as plt\n",
    "%matplotlib inline\n",
    "\n",
    "import torch\n",
    "import torch.utils.data\n",
    "from torch.autograd import Function\n",
    "from torchvision import datasets, transforms\n",
    "import torch.optim as optim\n",
    "import torch.nn as nn\n",
    "import torch.nn.functional as F\n",
    "#from torchsummary import summary\n",
    "\n",
    "from itertools import combinations\n",
    "import numpy as np\n",
    "import matplotlib.pyplot as plt\n",
    "\n",
    "import qiskit\n",
    "from qiskit.circuit.random import random_circuit\n",
    "from qiskit import transpile, assemble"
   ]
  },
  {
   "cell_type": "code",
   "execution_count": 3,
   "id": "f3ce742d-dff9-4cdc-b476-b0dad45658c6",
   "metadata": {},
   "outputs": [
    {
     "name": "stdout",
     "output_type": "stream",
     "text": [
      "--- Loading training and test data... ---\n",
      "--- Loading training and test data completed ---\n"
     ]
    }
   ],
   "source": [
    "print(\"--- Loading training and test data... ---\")\n",
    "train_data = np.load('train_dataset.npz')\n",
    "train_inputs = train_data[\"input\"]\n",
    "train_labels = train_data[\"labels\"]\n",
    "\n",
    "train_dataset = DynamicsDataset(train_inputs, train_labels)\n",
    "\n",
    "train_dataloader = torch.utils.data.DataLoader(train_dataset,\n",
    "                                                 batch_size=1,\n",
    "                                                 shuffle=True,\n",
    "                                                 collate_fn=DynamicsDataset.collate_fn,\n",
    "                                                 pin_memory=True,\n",
    "                                                 num_workers=1)\n",
    "test_data = np.load('val_dataset.npz')\n",
    "test_inputs = train_data[\"input\"]\n",
    "test_labels = train_data[\"labels\"]\n",
    "test_dataset = DynamicsDataset(test_inputs, test_labels)\n",
    "\n",
    "test_dataloader = torch.utils.data.DataLoader(test_dataset,\n",
    "                                                 batch_size=1,\n",
    "                                                 shuffle=False,\n",
    "                                                 collate_fn=DynamicsDataset.collate_fn,\n",
    "                                                 pin_memory=True,\n",
    "                                                 num_workers=1)\n",
    "print(\"--- Loading training and test data completed ---\")"
   ]
  },
  {
   "cell_type": "code",
   "execution_count": 4,
   "id": "b4bb110b-3976-4cf4-aea4-3f554080bc40",
   "metadata": {},
   "outputs": [
    {
     "name": "stdout",
     "output_type": "stream",
     "text": [
      "X_train: torch.Size([1, 4]) type: torch.DoubleTensor\n",
      "y_train: torch.Size([1, 4]) type: torch.DoubleTensor\n",
      "X_train: tensor([[-1.1970, -1.1259, -0.0436,  0.2298]], dtype=torch.float64)\n",
      "y_train: tensor([[-0.0436,  0.2298,  9.3889, -0.5102]], dtype=torch.float64)\n",
      "X_test: torch.Size([1, 4]) type: torch.DoubleTensor\n",
      "y_test: torch.Size([1, 4]) type: torch.DoubleTensor\n",
      "X_test: tensor([[ 1.9537,  0.2797, -0.0780, -0.2268]], dtype=torch.float64)\n",
      "y_test: tensor([[-0.0780, -0.2268, -9.3138, -3.6618]], dtype=torch.float64)\n"
     ]
    }
   ],
   "source": [
    "for (X_train, y_train) in train_dataloader:\n",
    "    print('X_train:', X_train.size(), 'type:', X_train.type())\n",
    "    print('y_train:', y_train.size(), 'type:', y_train.type())\n",
    "    print('X_train:', X_train)\n",
    "    print('y_train:', y_train)\n",
    "    break\n",
    "\n",
    "for (X_test, y_test) in test_dataloader:\n",
    "    print('X_test:', X_test.size(), 'type:', X_test.type())\n",
    "    print('y_test:', y_test.size(), 'type:', y_test.type())\n",
    "    print('X_test:', X_test)\n",
    "    print('y_test:', y_test)\n",
    "    break"
   ]
  },
  {
   "cell_type": "code",
   "execution_count": 5,
   "id": "d88f7c05-88f9-4f00-87cd-7c841835ed03",
   "metadata": {},
   "outputs": [],
   "source": [
    "class QuantumCircuit:\n",
    "    \"\"\" \n",
    "    This class provides a simple interface for interaction \n",
    "    with the quantum circuit \n",
    "    \"\"\"\n",
    "    \n",
    "    def __init__(self, n_qubits, backend, shots):\n",
    "        # --- Circuit definition ---\n",
    "        self._circuit = qiskit.QuantumCircuit(n_qubits)\n",
    "        \n",
    "        all_qubits = [i for i in range(n_qubits)]\n",
    "        self.theta = qiskit.circuit.Parameter('theta')\n",
    "        \n",
    "        self._circuit.h(all_qubits)\n",
    "        self._circuit.barrier()\n",
    "        self._circuit.ry(self.theta, all_qubits)\n",
    "        \n",
    "        self._circuit.measure_all()\n",
    "        # ---------------------------\n",
    "\n",
    "        self.backend = backend\n",
    "        self.shots = shots\n",
    "    \n",
    "    def run(self, thetas):\n",
    "        #set_trace()\n",
    "        #print('cRun:',thetas)\n",
    "        List = [thetas]\n",
    "        t_qc = transpile(self._circuit,\n",
    "                         self.backend)\n",
    "        qobj = assemble(t_qc,\n",
    "                        shots=self.shots,\n",
    "                        parameter_binds = [{self.theta: theta} for theta in List])\n",
    "        #set_trace()\n",
    "        job = self.backend.run(qobj)\n",
    "        result = job.result().get_counts()\n",
    "        \n",
    "        counts = np.array(list(result.values()))\n",
    "        states = np.array(list(result.keys())).astype(float)\n",
    "        \n",
    "        # Compute probabilities for each state\n",
    "        probabilities = counts / self.shots\n",
    "        # Get state expectation\n",
    "        expectation = np.sum(states * probabilities)\n",
    "        \n",
    "        return np.array([expectation])"
   ]
  },
  {
   "cell_type": "code",
   "execution_count": 9,
   "id": "83916b6d-f732-4ac2-88b1-3a47c4e3c858",
   "metadata": {},
   "outputs": [
    {
     "name": "stderr",
     "output_type": "stream",
     "text": [
      "/opt/conda/lib/python3.8/site-packages/qiskit/utils/deprecation.py:62: DeprecationWarning: Using a qobj for run() is deprecated as of qiskit-aer 0.9.0 and will be removed no sooner than 3 months from that release date. Transpiled circuits should now be passed directly using `backend.run(circuits, **run_options).\n",
      "  return func(*args, **kwargs)\n"
     ]
    },
    {
     "name": "stdout",
     "output_type": "stream",
     "text": [
      "Expected value for rotation pi [0.91]\n"
     ]
    },
    {
     "name": "stderr",
     "output_type": "stream",
     "text": [
      "/opt/conda/lib/python3.8/site-packages/sympy/core/expr.py:3949: SymPyDeprecationWarning: \n",
      "\n",
      "expr_free_symbols method has been deprecated since SymPy 1.9. See\n",
      "https://github.com/sympy/sympy/issues/21494 for more info.\n",
      "\n",
      "  SymPyDeprecationWarning(feature=\"expr_free_symbols method\",\n"
     ]
    },
    {
     "data": {
      "image/png": "[encoded data removed]",
      "text/plain": [
       "<Figure size 417.879x144.48 with 1 Axes>"
      ]
     },
     "execution_count": 9,
     "metadata": {},
     "output_type": "execute_result"
    }
   ],
   "source": [
    "simulator = qiskit.Aer.get_backend('aer_simulator')\n",
    "\n",
    "circuit = QuantumCircuit(1, simulator, 100)\n",
    "#data = [2.1757166385650635]\n",
    "print('Expected value for rotation pi {}'.format(circuit.run(2.1757166385650635)))\n",
    "#print('Expected value for rotation pi {}'.format(circuit.run([1.4173])))\n",
    "circuit._circuit.draw()"
   ]
  },
  {
   "cell_type": "code",
   "execution_count": 10,
   "id": "069a1e0d-f600-4109-ae0b-57ec65befdea",
   "metadata": {},
   "outputs": [],
   "source": [
    "class HybridFunction(Function):\n",
    "    \"\"\" Hybrid quantum - classical function definition \"\"\"\n",
    "    \n",
    "    @staticmethod\n",
    "    def forward(ctx, input, quantum_circuit, shift):\n",
    "        \"\"\" Forward pass computation \"\"\"\n",
    "        #print('hFor:', input)\n",
    "        #print('hFor1:', input[0])\n",
    "        #print('hFor2:', input[0].tolist())\n",
    "        ctx.shift = shift\n",
    "        ctx.quantum_circuit = quantum_circuit\n",
    "\n",
    "        expectation_z = ctx.quantum_circuit.run(input[0].tolist())\n",
    "        result = torch.tensor([expectation_z])\n",
    "        ctx.save_for_backward(input, result)\n",
    "\n",
    "        return result\n",
    "        \n",
    "    @staticmethod\n",
    "    def backward(ctx, grad_output):\n",
    "        \"\"\" Backward pass computation \"\"\"\n",
    "        input, expectation_z = ctx.saved_tensors\n",
    "        input_list = np.array(input.tolist())\n",
    "        \n",
    "        shift_right = input_list + np.ones(input_list.shape) * ctx.shift\n",
    "        shift_left = input_list - np.ones(input_list.shape) * ctx.shift\n",
    "        \n",
    "        gradients = []\n",
    "        for i in range(len(input_list)):\n",
    "            expectation_right = ctx.quantum_circuit.run(shift_right[i])\n",
    "            expectation_left  = ctx.quantum_circuit.run(shift_left[i])\n",
    "            \n",
    "            gradient = torch.tensor([expectation_right]) - torch.tensor([expectation_left])\n",
    "            gradients.append(gradient)\n",
    "        gradients = np.array([gradients]).T\n",
    "        return torch.tensor([gradients]).float() * grad_output.float(), None, None\n",
    "\n",
    "class Hybrid(nn.Module):\n",
    "    \"\"\" Hybrid quantum - classical layer definition \"\"\"\n",
    "    \n",
    "    def __init__(self, backend, shots, shift):\n",
    "        super(Hybrid, self).__init__()\n",
    "        self.quantum_circuit = QuantumCircuit(1, backend, shots)\n",
    "        self.shift = shift\n",
    "        \n",
    "    def forward(self, input):\n",
    "        #print('3',input)\n",
    "        return HybridFunction.apply(input, self.quantum_circuit, self.shift)"
   ]
  },
  {
   "cell_type": "code",
   "execution_count": 26,
   "id": "35542acb-5d1a-49c0-a68b-34ac5abfa671",
   "metadata": {},
   "outputs": [],
   "source": [
    "class LagrangianNeuralNetwork(torch.nn.Module):\n",
    "    def __init__(self, D_in, hidden_list, D_out):\n",
    "        \"\"\"\n",
    "        Neural Network used to approximate a paramaterized system lagrangian\n",
    "        \"\"\"\n",
    "        super(LagrangianNeuralNetwork, self).__init__()\n",
    "        self.model_layers = torch.nn.ModuleList()\n",
    "\n",
    "        # input layer\n",
    "        self.model_layers.append(torch.nn.Linear(D_in, hidden_list[0]))\n",
    "        # self.model_layers.append(torch.nn.BatchNorm1d(hidden_list[0]))\n",
    "        self.model_layers.append(torch.nn.Softplus())\n",
    "        #self.model_layers.append(Hybrid(qiskit.Aer.get_backend('aer_simulator'), 100, np.pi / 2))\n",
    "        # add all hiden layers\n",
    "        for i in range(1, len(hidden_list)):\n",
    "            self.model_layers.append(torch.nn.Linear(hidden_list[i-1], hidden_list[i]))\n",
    "            # self.model_layers.append(torch.nn.BatchNorm1d(hidden_list[i]))\n",
    "            self.model_layers.append(torch.nn.Softplus())\n",
    "\n",
    "        self.hybrid = Hybrid(qiskit.Aer.get_backend('aer_simulator'), 100, np.pi / 2)\n",
    "        #self.model_layers.append(Hybrid(qiskit.Aer.get_backend('aer_simulator'), 100, np.pi / 2))\n",
    "        # output layer\n",
    "        self.model_layers.append(torch.nn.Linear(hidden_list[-1], D_out))\n",
    "        self.model_layers.append(torch.nn.Softplus())\n",
    "\n",
    "    def forward(self, x):\n",
    "        \"\"\"\n",
    "        applies all of the model layers, and returns the single output value,\n",
    "        which in this case is the lagrangian of the system, representing the\n",
    "        total energy\n",
    "        \"\"\"\n",
    "        #print(\"2 \", x)\n",
    "        for layer in self.model_layers:\n",
    "            #print(len(self.model_layers))\n",
    "            x = layer(x)\n",
    "            #x = self.hybrid(x)\n",
    "        #print('pH', x)                \n",
    "        x = self.hybrid(x)\n",
    "        return x"
   ]
  },
  {
   "cell_type": "code",
   "execution_count": 27,
   "id": "9d2bedba-0e01-4403-8535-b54d702ca1cc",
   "metadata": {},
   "outputs": [
    {
     "name": "stdout",
     "output_type": "stream",
     "text": [
      "--- Checking for CUDA Device... ---\n"
     ]
    }
   ],
   "source": [
    "# determine device\n",
    "print(\"--- Checking for CUDA Device... ---\")\n",
    "use_cuda = torch.cuda.is_available()\n",
    "device = torch.device(\"cuda:0\" if use_cuda else \"cpu\")"
   ]
  },
  {
   "cell_type": "code",
   "execution_count": 28,
   "id": "56359ff6-9cbd-4491-b2ab-9001b5342048",
   "metadata": {},
   "outputs": [
    {
     "name": "stdout",
     "output_type": "stream",
     "text": [
      "--- Constructing Model... ---\n",
      "Re-loading existing weights!\n",
      "--- Beginning Training! ---\n"
     ]
    },
    {
     "name": "stderr",
     "output_type": "stream",
     "text": [
      "/tmp/ipykernel_59/3987841601.py:35: FutureWarning: The input object of type 'Tensor' is an array-like implementing one of the corresponding protocols (`__array__`, `__array_interface__` or `__array_struct__`); but not a sequence (or 0-D). In the future, this object will be coerced as if it was first converted using `np.array(obj)`. To retain the old behaviour, you have to either modify the type 'Tensor', or assign to an empty array created with `np.empty(correct_shape, dtype=object)`.\n",
      "  gradients = np.array([gradients]).T\n"
     ]
    },
    {
     "name": "stdout",
     "output_type": "stream",
     "text": [
      "Training [5%]\tLoss: 9.8039\n",
      "Training [10%]\tLoss: 10.8552\n",
      "Training [15%]\tLoss: 17.0065\n",
      "Training [20%]\tLoss: 12.2205\n",
      "Training [25%]\tLoss: 13.8971\n",
      "Training [30%]\tLoss: 16.7136\n",
      "Training [35%]\tLoss: 21.4360\n",
      "Training [40%]\tLoss: 15.0806\n",
      "Training [45%]\tLoss: 13.7896\n",
      "Training [50%]\tLoss: 19.9014\n",
      "Training [55%]\tLoss: 13.5810\n",
      "Training [60%]\tLoss: 10.1830\n",
      "Training [65%]\tLoss: 17.6155\n",
      "Training [70%]\tLoss: 17.3491\n",
      "Training [75%]\tLoss: 16.5498\n",
      "Training [80%]\tLoss: 15.1826\n",
      "Training [85%]\tLoss: 12.5587\n",
      "Training [90%]\tLoss: 17.3735\n",
      "Training [95%]\tLoss: 23.4242\n",
      "Training [100%]\tLoss: 19.9395\n",
      "end\n"
     ]
    }
   ],
   "source": [
    "# organize data\n",
    "input_size = train_inputs.shape[1]\n",
    "output_size = 1  # for all lagrangian systems, output should be just a scalar energy value\n",
    "\n",
    "# build model\n",
    "print(\"--- Constructing Model... ---\")\n",
    "D_in = input_size  # state size\n",
    "# hidden_list = [D_in, 256, 256, 256, 256, 256]\n",
    "hidden_list = [D_in, 32, 64, 128, 256, 512, 256, 128, 64, 32]\n",
    "D_out = output_size\n",
    "lnn_model = LagrangianNeuralNetwork(D_in, hidden_list, D_out)\n",
    "#summary(lnn_model, (1, 28, 28), device='cpu')\n",
    "# set up training parameters\n",
    "learning_rate = 1e-4\n",
    "weight_decay = 1e-5\n",
    "momentum = 0.9\n",
    "num_epochs = 20\n",
    "optimizer = torch.optim.Adam(lnn_model.parameters(),\n",
    "                             lr=learning_rate,\n",
    "                             weight_decay=weight_decay)\n",
    "\n",
    "if os.path.isfile(\"model_weights.pth\"):\n",
    "    print(\"Re-loading existing weights!\")\n",
    "    checkpoint = torch.load(\"model_weights.pth\")\n",
    "    lnn_model.load_state_dict(checkpoint['model_state_dict'])\n",
    "    optimizer.load_state_dict(checkpoint['optimizer_state_dict'])\n",
    "\n",
    "# ensure model is in train mode so gradients are properly calculated\n",
    "lnn_model.train()\n",
    "# load device to either GPU or CPU depending on hardware\n",
    "lnn_model.to(device)\n",
    "\n",
    "# set up loss function\n",
    "loss_fcn = torch.nn.MSELoss()\n",
    "\n",
    "# set up GradScaler to improve run speed\n",
    "scaler = torch.cuda.amp.GradScaler()\n",
    "\n",
    "print(\"--- Beginning Training! ---\")\n",
    "loss_list = []\n",
    "lnn_model.train()\n",
    "for epoch in range(num_epochs):\n",
    "    total_loss = []\n",
    "    for batch_idx, (data, target) in enumerate(train_dataloader):\n",
    "        data, target = data.to(device), target.to(device)\n",
    "        optimizer.zero_grad()\n",
    "        for p in lnn_model.parameters(): p.grad = None\n",
    "        # Forward pass\n",
    "        #output = model(data)\n",
    "        # Calculating loss\n",
    "        #loss = loss_func(output, target)\n",
    "        # output from model is the energy calculated from the parameterized lagrangian\n",
    "        #print('1',data)\n",
    "        data = torch.squeeze(data)\n",
    "        with torch.cuda.amp.autocast():\n",
    "            target_pred = solve_euler_lagrange(lnn_model.forward, data.float())\n",
    "            loss = loss_fcn(target_pred.unsqueeze(0), target.float())\n",
    "        # Backward pass\n",
    "        scaler.scale(loss).backward()\n",
    "        # Optimize the weights\n",
    "        scaler.step(optimizer)\n",
    "        #print(\"Iter Num: \", batch_idx)\n",
    "        if (batch_idx == 10):\n",
    "            #print(\"Iter Num: \", batch_idx)\n",
    "            break\n",
    "        #print(\"Iter Num: \", len(train_dataloader))\n",
    "        #print(\"Iter Num: \", batch_idx)\n",
    "        total_loss.append(loss.item())\n",
    "    loss_list.append(sum(total_loss)/len(total_loss))\n",
    "    print('Training [{:.0f}%]\\tLoss: {:.4f}'.format(\n",
    "        100. * (epoch + 1) / num_epochs, loss_list[-1]))\n",
    "\n",
    "print('end')"
   ]
  },
  {
   "cell_type": "code",
   "execution_count": 29,
   "id": "4aa85bc5-b9d3-49a3-9c42-7b960831a5c8",
   "metadata": {},
   "outputs": [
    {
     "data": {
      "text/plain": [
       "Text(0, 0.5, 'Neg Log Likelihood Loss')"
      ]
     },
     "execution_count": 29,
     "metadata": {},
     "output_type": "execute_result"
    },
    {
     "data": {
      "image/png": "[encoded data removed]",
      "text/plain": [
       "<Figure size 432x288 with 1 Axes>"
      ]
     },
     "metadata": {
      "needs_background": "light"
     },
     "output_type": "display_data"
    }
   ],
   "source": [
    "plt.plot(loss_list)\n",
    "plt.title('Hybrid NN Training Convergence')\n",
    "plt.xlabel('Training Iterations')\n",
    "plt.ylabel('Neg Log Likelihood Loss')"
   ]
  },
  {
   "cell_type": "code",
   "execution_count": null,
   "id": "5ab4d471-de53-4624-ae73-0c8c9d3be4d1",
   "metadata": {},
   "outputs": [],
   "source": []
  }
 ],
 "metadata": {
  "kernelspec": {
   "display_name": "Qiskit v0.32.1 (ipykernel)",
   "language": "python",
   "name": "python3"
  },
  "language_info": {
   "codemirror_mode": {
    "name": "ipython",
    "version": 3
   },
   "file_extension": ".py",
   "mimetype": "text/x-python",
   "name": "python",
   "nbconvert_exporter": "python",
   "pygments_lexer": "ipython3",
   "version": "3.8.10"
  },
  "widgets": {
   "application/vnd.jupyter.widget-state+json": {
    "state": {
     "0170b217374b4dd68d0e51335825cf81": {
      "model_module": "@jupyter-widgets/base",
      "model_module_version": "1.2.0",
      "model_name": "LayoutModel",
      "state": {
       "grid_template_areas": "\n                                       \". . . . right \"\n                                        ",
       "grid_template_columns": "20% 20% 20% 20% 20%",
       "width": "100%"
      }
     },
     "05c9fff7f84f4206b3b9bc00edef6e0e": {
      "model_module": "@jupyter-widgets/base",
      "model_module_version": "1.2.0",
      "model_name": "LayoutModel",
      "state": {
       "width": "70px"
      }
     },
     "087d8fdac1ed4c5496ce8c2ce71a3a6f": {
      "model_module": "@jupyter-widgets/controls",
      "model_module_version": "1.5.0",
      "model_name": "HTMLModel",
      "state": {
       "layout": "IPY_MODEL_56d102c89dd84cf288e5dfee6a9fc169",
       "style": "IPY_MODEL_4e14dbbe2b7d49b8916ae024addd43bf",
       "value": "<h5>Status</h5>"
      }
     },
     "1498936ecbba43bfaea0ad9a58b70d52": {
      "model_module": "@jupyter-widgets/controls",
      "model_module_version": "1.5.0",
      "model_name": "DescriptionStyleModel",
      "state": {
       "description_width": ""
      }
     },
     "3be7370d83634611802bb5cc32d774ae": {
      "model_module": "@jupyter-widgets/controls",
      "model_module_version": "1.5.0",
      "model_name": "DescriptionStyleModel",
      "state": {
       "description_width": ""
      }
     },
     "47d7f48529e2415ca2bb9f3168a5bcf9": {
      "model_module": "@jupyter-widgets/controls",
      "model_module_version": "1.5.0",
      "model_name": "GridBoxModel",
      "state": {
       "children": [
        "IPY_MODEL_d82a36951aeb49b98123af04093d0308"
       ],
       "layout": "IPY_MODEL_0170b217374b4dd68d0e51335825cf81"
      }
     },
     "4e14dbbe2b7d49b8916ae024addd43bf": {
      "model_module": "@jupyter-widgets/controls",
      "model_module_version": "1.5.0",
      "model_name": "DescriptionStyleModel",
      "state": {
       "description_width": ""
      }
     },
     "56d102c89dd84cf288e5dfee6a9fc169": {
      "model_module": "@jupyter-widgets/base",
      "model_module_version": "1.2.0",
      "model_name": "LayoutModel",
      "state": {
       "width": "95px"
      }
     },
     "63d7f0b5b74d4b7b8807396f36011742": {
      "model_module": "@jupyter-widgets/controls",
      "model_module_version": "1.5.0",
      "model_name": "DescriptionStyleModel",
      "state": {
       "description_width": ""
      }
     },
     "6cf361af65db46d4a82501d844ac2e50": {
      "model_module": "@jupyter-widgets/base",
      "model_module_version": "1.2.0",
      "model_name": "LayoutModel",
      "state": {
       "width": "190px"
      }
     },
     "6e933a7b1f2c4d7cbef5854715e022df": {
      "model_module": "@jupyter-widgets/base",
      "model_module_version": "1.2.0",
      "model_name": "LayoutModel",
      "state": {
       "width": "145px"
      }
     },
     "710ed1a8c7c94a13b3a0a43d76493751": {
      "model_module": "@jupyter-widgets/controls",
      "model_module_version": "1.5.0",
      "model_name": "HBoxModel",
      "state": {
       "children": [
        "IPY_MODEL_ac5c1445e03e4b31900420e2b1a9a1b8",
        "IPY_MODEL_9955bd44f9614f5aa8f01f6820b0af85",
        "IPY_MODEL_087d8fdac1ed4c5496ce8c2ce71a3a6f",
        "IPY_MODEL_dd4db8a4a3cb4c02adf92b2c276a8343",
        "IPY_MODEL_a71260ea11f84e6bb9e029938abe045d"
       ],
       "layout": "IPY_MODEL_c28fb0199e8042748f20e1547bebf1ee"
      }
     },
     "81387b969e474883961a2da23232750a": {
      "model_module": "@jupyter-widgets/base",
      "model_module_version": "1.2.0",
      "model_name": "LayoutModel",
      "state": {
       "margin": "0px 0px 10px 0px"
      }
     },
     "817ddf33e0a449049572ac98d6192c2e": {
      "model_module": "@jupyter-widgets/controls",
      "model_module_version": "1.5.0",
      "model_name": "ButtonStyleModel",
      "state": {}
     },
     "84ebb9560b8a4ac6b2718cd8d5099557": {
      "model_module": "@jupyter-widgets/controls",
      "model_module_version": "1.5.0",
      "model_name": "HTMLModel",
      "state": {
       "layout": "IPY_MODEL_81387b969e474883961a2da23232750a",
       "style": "IPY_MODEL_eddf562e62bd40768f3b532c400d0a11",
       "value": "<p style='font-family: IBM Plex Sans, Arial, Helvetica, sans-serif; font-size: 20px; font-weight: medium;'>Circuit Properties</p>"
      }
     },
     "9955bd44f9614f5aa8f01f6820b0af85": {
      "model_module": "@jupyter-widgets/controls",
      "model_module_version": "1.5.0",
      "model_name": "HTMLModel",
      "state": {
       "layout": "IPY_MODEL_6e933a7b1f2c4d7cbef5854715e022df",
       "style": "IPY_MODEL_3be7370d83634611802bb5cc32d774ae",
       "value": "<h5>Backend</h5>"
      }
     },
     "a71260ea11f84e6bb9e029938abe045d": {
      "model_module": "@jupyter-widgets/controls",
      "model_module_version": "1.5.0",
      "model_name": "HTMLModel",
      "state": {
       "layout": "IPY_MODEL_c323927db55f42828fd283394b04abac",
       "style": "IPY_MODEL_63d7f0b5b74d4b7b8807396f36011742",
       "value": "<h5>Message</h5>"
      }
     },
     "ac5c1445e03e4b31900420e2b1a9a1b8": {
      "model_module": "@jupyter-widgets/controls",
      "model_module_version": "1.5.0",
      "model_name": "HTMLModel",
      "state": {
       "layout": "IPY_MODEL_6cf361af65db46d4a82501d844ac2e50",
       "style": "IPY_MODEL_1498936ecbba43bfaea0ad9a58b70d52",
       "value": "<h5>Job ID</h5>"
      }
     },
     "c28fb0199e8042748f20e1547bebf1ee": {
      "model_module": "@jupyter-widgets/base",
      "model_module_version": "1.2.0",
      "model_name": "LayoutModel",
      "state": {
       "margin": "0px 0px 0px 37px",
       "width": "600px"
      }
     },
     "c323927db55f42828fd283394b04abac": {
      "model_module": "@jupyter-widgets/base",
      "model_module_version": "1.2.0",
      "model_name": "LayoutModel",
      "state": {}
     },
     "d07451b541f6463ea40d0fd1c3d92eed": {
      "model_module": "@jupyter-widgets/controls",
      "model_module_version": "1.5.0",
      "model_name": "DescriptionStyleModel",
      "state": {
       "description_width": ""
      }
     },
     "d82a36951aeb49b98123af04093d0308": {
      "model_module": "@jupyter-widgets/controls",
      "model_module_version": "1.5.0",
      "model_name": "ButtonModel",
      "state": {
       "button_style": "primary",
       "description": "Clear",
       "layout": "IPY_MODEL_f5bbd0ffb5b2427ea3915df2e04a8c23",
       "style": "IPY_MODEL_817ddf33e0a449049572ac98d6192c2e"
      }
     },
     "dd4db8a4a3cb4c02adf92b2c276a8343": {
      "model_module": "@jupyter-widgets/controls",
      "model_module_version": "1.5.0",
      "model_name": "HTMLModel",
      "state": {
       "layout": "IPY_MODEL_05c9fff7f84f4206b3b9bc00edef6e0e",
       "style": "IPY_MODEL_d07451b541f6463ea40d0fd1c3d92eed",
       "value": "<h5>Queue</h5>"
      }
     },
     "eddf562e62bd40768f3b532c400d0a11": {
      "model_module": "@jupyter-widgets/controls",
      "model_module_version": "1.5.0",
      "model_name": "DescriptionStyleModel",
      "state": {
       "description_width": ""
      }
     },
     "f5bbd0ffb5b2427ea3915df2e04a8c23": {
      "model_module": "@jupyter-widgets/base",
      "model_module_version": "1.2.0",
      "model_name": "LayoutModel",
      "state": {
       "grid_area": "right",
       "padding": "0px 0px 0px 0px",
       "width": "70px"
      }
     }
    },
    "version_major": 2,
    "version_minor": 0
   }
  }
 },
 "nbformat": 4,
 "nbformat_minor": 5
}
